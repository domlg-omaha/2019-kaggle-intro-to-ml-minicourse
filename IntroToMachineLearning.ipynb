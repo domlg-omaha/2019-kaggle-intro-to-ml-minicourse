{
 "cells": [
  {
   "cell_type": "markdown",
   "metadata": {},
   "source": [
    "# Pandas\n",
    "\n",
    "Pandas tries to bring the conciseness of R to python.\n",
    "Dataframes are also numpy arrays, so you can often use these interchangeably."
   ]
  },
  {
   "cell_type": "code",
   "execution_count": 1,
   "metadata": {},
   "outputs": [],
   "source": [
    "%matplotlib inline\n",
    "import pandas as pd\n",
    "import numpy as np\n",
    "from subprocess import call"
   ]
  },
  {
   "cell_type": "markdown",
   "metadata": {},
   "source": [
    "Pandas dataframes support a lot of different options for loading data. For most tutorials and kaggle competitions, data is given in the form of CSV's.\n",
    "\n",
    "I used this dataset for this presentation:\n",
    "\n",
    "https://www.kaggle.com/thegurus/spanish-high-speed-rail-system-ticket-pricing"
   ]
  },
  {
   "cell_type": "code",
   "execution_count": 2,
   "metadata": {},
   "outputs": [
    {
     "name": "stderr",
     "output_type": "stream",
     "text": [
      "/usr/local/lib/python3.6/dist-packages/numpy/lib/arraysetops.py:472: FutureWarning: elementwise comparison failed; returning scalar instead, but in the future will perform elementwise comparison\n",
      "  mask |= (ar1 == a)\n"
     ]
    }
   ],
   "source": [
    "df = pd.read_csv('/root/datasets/spanish-high-speed-rail-system-ticket-pricing/renfe.csv', index_col=0)"
   ]
  },
  {
   "cell_type": "markdown",
   "metadata": {},
   "source": [
    "Pandas supports quite a few read options, including json, html, and even the clipboard.\n",
    "\n",
    "df is commonly the shorthand name used for the \"DataFrame\" in a lot of tutorials. It's not a very good name, but I see it used a lot."
   ]
  },
  {
   "cell_type": "markdown",
   "metadata": {},
   "source": [
    "The describe keyword will give out statistics on non-categorical columns."
   ]
  },
  {
   "cell_type": "code",
   "execution_count": 3,
   "metadata": {},
   "outputs": [
    {
     "data": {
      "text/html": [
       "<div>\n",
       "<style scoped>\n",
       "    .dataframe tbody tr th:only-of-type {\n",
       "        vertical-align: middle;\n",
       "    }\n",
       "\n",
       "    .dataframe tbody tr th {\n",
       "        vertical-align: top;\n",
       "    }\n",
       "\n",
       "    .dataframe thead th {\n",
       "        text-align: right;\n",
       "    }\n",
       "</style>\n",
       "<table border=\"1\" class=\"dataframe\">\n",
       "  <thead>\n",
       "    <tr style=\"text-align: right;\">\n",
       "      <th></th>\n",
       "      <th>price</th>\n",
       "    </tr>\n",
       "  </thead>\n",
       "  <tbody>\n",
       "    <tr>\n",
       "      <th>count</th>\n",
       "      <td>2.269090e+06</td>\n",
       "    </tr>\n",
       "    <tr>\n",
       "      <th>mean</th>\n",
       "      <td>6.338550e+01</td>\n",
       "    </tr>\n",
       "    <tr>\n",
       "      <th>std</th>\n",
       "      <td>2.578319e+01</td>\n",
       "    </tr>\n",
       "    <tr>\n",
       "      <th>min</th>\n",
       "      <td>1.545000e+01</td>\n",
       "    </tr>\n",
       "    <tr>\n",
       "      <th>25%</th>\n",
       "      <td>4.375000e+01</td>\n",
       "    </tr>\n",
       "    <tr>\n",
       "      <th>50%</th>\n",
       "      <td>6.030000e+01</td>\n",
       "    </tr>\n",
       "    <tr>\n",
       "      <th>75%</th>\n",
       "      <td>7.880000e+01</td>\n",
       "    </tr>\n",
       "    <tr>\n",
       "      <th>max</th>\n",
       "      <td>2.142000e+02</td>\n",
       "    </tr>\n",
       "  </tbody>\n",
       "</table>\n",
       "</div>"
      ],
      "text/plain": [
       "              price\n",
       "count  2.269090e+06\n",
       "mean   6.338550e+01\n",
       "std    2.578319e+01\n",
       "min    1.545000e+01\n",
       "25%    4.375000e+01\n",
       "50%    6.030000e+01\n",
       "75%    7.880000e+01\n",
       "max    2.142000e+02"
      ]
     },
     "execution_count": 3,
     "metadata": {},
     "output_type": "execute_result"
    }
   ],
   "source": [
    "df.describe()"
   ]
  },
  {
   "cell_type": "markdown",
   "metadata": {},
   "source": [
    "head can be used to see the first few rows of data (5 by default)."
   ]
  },
  {
   "cell_type": "code",
   "execution_count": 4,
   "metadata": {},
   "outputs": [
    {
     "data": {
      "text/html": [
       "<div>\n",
       "<style scoped>\n",
       "    .dataframe tbody tr th:only-of-type {\n",
       "        vertical-align: middle;\n",
       "    }\n",
       "\n",
       "    .dataframe tbody tr th {\n",
       "        vertical-align: top;\n",
       "    }\n",
       "\n",
       "    .dataframe thead th {\n",
       "        text-align: right;\n",
       "    }\n",
       "</style>\n",
       "<table border=\"1\" class=\"dataframe\">\n",
       "  <thead>\n",
       "    <tr style=\"text-align: right;\">\n",
       "      <th></th>\n",
       "      <th>insert_date</th>\n",
       "      <th>origin</th>\n",
       "      <th>destination</th>\n",
       "      <th>start_date</th>\n",
       "      <th>end_date</th>\n",
       "      <th>train_type</th>\n",
       "      <th>price</th>\n",
       "      <th>train_class</th>\n",
       "      <th>fare</th>\n",
       "    </tr>\n",
       "  </thead>\n",
       "  <tbody>\n",
       "    <tr>\n",
       "      <th>0</th>\n",
       "      <td>2019-04-19 05:31:43</td>\n",
       "      <td>MADRID</td>\n",
       "      <td>SEVILLA</td>\n",
       "      <td>2019-05-29 06:20:00</td>\n",
       "      <td>2019-05-29 09:16:00</td>\n",
       "      <td>AV City</td>\n",
       "      <td>38.55</td>\n",
       "      <td>Turista</td>\n",
       "      <td>Promo</td>\n",
       "    </tr>\n",
       "    <tr>\n",
       "      <th>1</th>\n",
       "      <td>2019-04-19 05:31:43</td>\n",
       "      <td>MADRID</td>\n",
       "      <td>SEVILLA</td>\n",
       "      <td>2019-05-29 07:00:00</td>\n",
       "      <td>2019-05-29 09:32:00</td>\n",
       "      <td>AVE</td>\n",
       "      <td>53.40</td>\n",
       "      <td>Turista</td>\n",
       "      <td>Promo</td>\n",
       "    </tr>\n",
       "    <tr>\n",
       "      <th>2</th>\n",
       "      <td>2019-04-19 05:31:43</td>\n",
       "      <td>MADRID</td>\n",
       "      <td>SEVILLA</td>\n",
       "      <td>2019-05-29 07:30:00</td>\n",
       "      <td>2019-05-29 09:51:00</td>\n",
       "      <td>AVE</td>\n",
       "      <td>47.30</td>\n",
       "      <td>Turista</td>\n",
       "      <td>Promo</td>\n",
       "    </tr>\n",
       "    <tr>\n",
       "      <th>3</th>\n",
       "      <td>2019-04-19 05:31:43</td>\n",
       "      <td>MADRID</td>\n",
       "      <td>SEVILLA</td>\n",
       "      <td>2019-05-29 08:00:00</td>\n",
       "      <td>2019-05-29 10:32:00</td>\n",
       "      <td>AVE</td>\n",
       "      <td>69.40</td>\n",
       "      <td>Preferente</td>\n",
       "      <td>Promo</td>\n",
       "    </tr>\n",
       "    <tr>\n",
       "      <th>4</th>\n",
       "      <td>2019-04-19 05:31:43</td>\n",
       "      <td>MADRID</td>\n",
       "      <td>SEVILLA</td>\n",
       "      <td>2019-05-29 08:30:00</td>\n",
       "      <td>2019-05-29 11:14:00</td>\n",
       "      <td>ALVIA</td>\n",
       "      <td>NaN</td>\n",
       "      <td>Turista</td>\n",
       "      <td>Promo</td>\n",
       "    </tr>\n",
       "  </tbody>\n",
       "</table>\n",
       "</div>"
      ],
      "text/plain": [
       "           insert_date  origin destination           start_date  \\\n",
       "0  2019-04-19 05:31:43  MADRID     SEVILLA  2019-05-29 06:20:00   \n",
       "1  2019-04-19 05:31:43  MADRID     SEVILLA  2019-05-29 07:00:00   \n",
       "2  2019-04-19 05:31:43  MADRID     SEVILLA  2019-05-29 07:30:00   \n",
       "3  2019-04-19 05:31:43  MADRID     SEVILLA  2019-05-29 08:00:00   \n",
       "4  2019-04-19 05:31:43  MADRID     SEVILLA  2019-05-29 08:30:00   \n",
       "\n",
       "              end_date train_type  price train_class   fare  \n",
       "0  2019-05-29 09:16:00    AV City  38.55     Turista  Promo  \n",
       "1  2019-05-29 09:32:00        AVE  53.40     Turista  Promo  \n",
       "2  2019-05-29 09:51:00        AVE  47.30     Turista  Promo  \n",
       "3  2019-05-29 10:32:00        AVE  69.40  Preferente  Promo  \n",
       "4  2019-05-29 11:14:00      ALVIA    NaN     Turista  Promo  "
      ]
     },
     "execution_count": 4,
     "metadata": {},
     "output_type": "execute_result"
    }
   ],
   "source": [
    "df.head()"
   ]
  },
  {
   "cell_type": "markdown",
   "metadata": {},
   "source": [
    "df.info() will get you more info on the dataframe. Including column types on all columns."
   ]
  },
  {
   "cell_type": "code",
   "execution_count": 5,
   "metadata": {},
   "outputs": [
    {
     "name": "stdout",
     "output_type": "stream",
     "text": [
      "<class 'pandas.core.frame.DataFrame'>\n",
      "Int64Index: 2579771 entries, 0 to 2579770\n",
      "Data columns (total 9 columns):\n",
      "insert_date    object\n",
      "origin         object\n",
      "destination    object\n",
      "start_date     object\n",
      "end_date       object\n",
      "train_type     object\n",
      "price          float64\n",
      "train_class    object\n",
      "fare           object\n",
      "dtypes: float64(1), object(8)\n",
      "memory usage: 196.8+ MB\n"
     ]
    }
   ],
   "source": [
    "df.info()"
   ]
  },
  {
   "cell_type": "markdown",
   "metadata": {},
   "source": [
    "You can do lots of really neat stuff with pandas to ask most questions you can think of for a dataframe. For example, to see all the places these trains can be coming from, you can write this."
   ]
  },
  {
   "cell_type": "code",
   "execution_count": 6,
   "metadata": {},
   "outputs": [
    {
     "data": {
      "text/plain": [
       "array(['MADRID', 'SEVILLA', 'PONFERRADA', 'BARCELONA', 'VALENCIA'],\n",
       "      dtype=object)"
      ]
     },
     "execution_count": 6,
     "metadata": {},
     "output_type": "execute_result"
    }
   ],
   "source": [
    "df.origin.unique()"
   ]
  },
  {
   "cell_type": "code",
   "execution_count": 7,
   "metadata": {},
   "outputs": [
    {
     "data": {
      "text/plain": [
       "array(['MADRID', 'SEVILLA', 'PONFERRADA', 'BARCELONA', 'VALENCIA'],\n",
       "      dtype=object)"
      ]
     },
     "execution_count": 7,
     "metadata": {},
     "output_type": "execute_result"
    }
   ],
   "source": [
    "df['origin'].unique()"
   ]
  },
  {
   "cell_type": "markdown",
   "metadata": {},
   "source": [
    "In this data, it turns out we don't care about all these columns, to reduce things down to the columns you care about, you can do this:"
   ]
  },
  {
   "cell_type": "code",
   "execution_count": 8,
   "metadata": {},
   "outputs": [],
   "source": [
    "features = ['origin', 'destination', 'start_date', 'end_date', 'train_type', 'train_class', 'fare']\n",
    "target = ['price']\n",
    "df_reduced = df[features + target]"
   ]
  },
  {
   "cell_type": "code",
   "execution_count": 9,
   "metadata": {},
   "outputs": [
    {
     "data": {
      "text/html": [
       "<div>\n",
       "<style scoped>\n",
       "    .dataframe tbody tr th:only-of-type {\n",
       "        vertical-align: middle;\n",
       "    }\n",
       "\n",
       "    .dataframe tbody tr th {\n",
       "        vertical-align: top;\n",
       "    }\n",
       "\n",
       "    .dataframe thead th {\n",
       "        text-align: right;\n",
       "    }\n",
       "</style>\n",
       "<table border=\"1\" class=\"dataframe\">\n",
       "  <thead>\n",
       "    <tr style=\"text-align: right;\">\n",
       "      <th></th>\n",
       "      <th>origin</th>\n",
       "      <th>destination</th>\n",
       "      <th>start_date</th>\n",
       "      <th>end_date</th>\n",
       "      <th>train_type</th>\n",
       "      <th>train_class</th>\n",
       "      <th>fare</th>\n",
       "      <th>price</th>\n",
       "    </tr>\n",
       "  </thead>\n",
       "  <tbody>\n",
       "    <tr>\n",
       "      <th>0</th>\n",
       "      <td>MADRID</td>\n",
       "      <td>SEVILLA</td>\n",
       "      <td>2019-05-29 06:20:00</td>\n",
       "      <td>2019-05-29 09:16:00</td>\n",
       "      <td>AV City</td>\n",
       "      <td>Turista</td>\n",
       "      <td>Promo</td>\n",
       "      <td>38.55</td>\n",
       "    </tr>\n",
       "    <tr>\n",
       "      <th>1</th>\n",
       "      <td>MADRID</td>\n",
       "      <td>SEVILLA</td>\n",
       "      <td>2019-05-29 07:00:00</td>\n",
       "      <td>2019-05-29 09:32:00</td>\n",
       "      <td>AVE</td>\n",
       "      <td>Turista</td>\n",
       "      <td>Promo</td>\n",
       "      <td>53.40</td>\n",
       "    </tr>\n",
       "    <tr>\n",
       "      <th>2</th>\n",
       "      <td>MADRID</td>\n",
       "      <td>SEVILLA</td>\n",
       "      <td>2019-05-29 07:30:00</td>\n",
       "      <td>2019-05-29 09:51:00</td>\n",
       "      <td>AVE</td>\n",
       "      <td>Turista</td>\n",
       "      <td>Promo</td>\n",
       "      <td>47.30</td>\n",
       "    </tr>\n",
       "    <tr>\n",
       "      <th>3</th>\n",
       "      <td>MADRID</td>\n",
       "      <td>SEVILLA</td>\n",
       "      <td>2019-05-29 08:00:00</td>\n",
       "      <td>2019-05-29 10:32:00</td>\n",
       "      <td>AVE</td>\n",
       "      <td>Preferente</td>\n",
       "      <td>Promo</td>\n",
       "      <td>69.40</td>\n",
       "    </tr>\n",
       "    <tr>\n",
       "      <th>4</th>\n",
       "      <td>MADRID</td>\n",
       "      <td>SEVILLA</td>\n",
       "      <td>2019-05-29 08:30:00</td>\n",
       "      <td>2019-05-29 11:14:00</td>\n",
       "      <td>ALVIA</td>\n",
       "      <td>Turista</td>\n",
       "      <td>Promo</td>\n",
       "      <td>NaN</td>\n",
       "    </tr>\n",
       "  </tbody>\n",
       "</table>\n",
       "</div>"
      ],
      "text/plain": [
       "   origin destination           start_date             end_date train_type  \\\n",
       "0  MADRID     SEVILLA  2019-05-29 06:20:00  2019-05-29 09:16:00    AV City   \n",
       "1  MADRID     SEVILLA  2019-05-29 07:00:00  2019-05-29 09:32:00        AVE   \n",
       "2  MADRID     SEVILLA  2019-05-29 07:30:00  2019-05-29 09:51:00        AVE   \n",
       "3  MADRID     SEVILLA  2019-05-29 08:00:00  2019-05-29 10:32:00        AVE   \n",
       "4  MADRID     SEVILLA  2019-05-29 08:30:00  2019-05-29 11:14:00      ALVIA   \n",
       "\n",
       "  train_class   fare  price  \n",
       "0     Turista  Promo  38.55  \n",
       "1     Turista  Promo  53.40  \n",
       "2     Turista  Promo  47.30  \n",
       "3  Preferente  Promo  69.40  \n",
       "4     Turista  Promo    NaN  "
      ]
     },
     "execution_count": 9,
     "metadata": {},
     "output_type": "execute_result"
    }
   ],
   "source": [
    "df_reduced.head()"
   ]
  },
  {
   "cell_type": "code",
   "execution_count": 10,
   "metadata": {},
   "outputs": [
    {
     "name": "stdout",
     "output_type": "stream",
     "text": [
      "<class 'pandas.core.frame.DataFrame'>\n",
      "Int64Index: 2579771 entries, 0 to 2579770\n",
      "Data columns (total 8 columns):\n",
      "origin         object\n",
      "destination    object\n",
      "start_date     object\n",
      "end_date       object\n",
      "train_type     object\n",
      "train_class    object\n",
      "fare           object\n",
      "price          float64\n",
      "dtypes: float64(1), object(7)\n",
      "memory usage: 177.1+ MB\n"
     ]
    }
   ],
   "source": [
    "df_reduced.info()"
   ]
  },
  {
   "cell_type": "markdown",
   "metadata": {},
   "source": [
    "I happen to have learned that data was often collected many more times than once, and that, after removing collection time, there are going to be mostly duplicates in this dataset. Pandas has an easy method for me right away."
   ]
  },
  {
   "cell_type": "code",
   "execution_count": 11,
   "metadata": {},
   "outputs": [],
   "source": [
    "df_reduced = df_reduced.drop_duplicates()"
   ]
  },
  {
   "cell_type": "code",
   "execution_count": 12,
   "metadata": {},
   "outputs": [
    {
     "name": "stdout",
     "output_type": "stream",
     "text": [
      "<class 'pandas.core.frame.DataFrame'>\n",
      "Int64Index: 33847 entries, 0 to 2575305\n",
      "Data columns (total 8 columns):\n",
      "origin         33847 non-null object\n",
      "destination    33847 non-null object\n",
      "start_date     33847 non-null object\n",
      "end_date       33847 non-null object\n",
      "train_type     33847 non-null object\n",
      "train_class    33503 non-null object\n",
      "fare           33503 non-null object\n",
      "price          24885 non-null float64\n",
      "dtypes: float64(1), object(7)\n",
      "memory usage: 2.3+ MB\n"
     ]
    }
   ],
   "source": [
    "df_reduced.info()"
   ]
  },
  {
   "cell_type": "markdown",
   "metadata": {},
   "source": [
    "Let's look for null values now.  It looks like there's quite a few. This is still just an intro so we'll jsut drop all these."
   ]
  },
  {
   "cell_type": "code",
   "execution_count": 13,
   "metadata": {},
   "outputs": [
    {
     "data": {
      "text/plain": [
       "origin            0\n",
       "destination       0\n",
       "start_date        0\n",
       "end_date          0\n",
       "train_type        0\n",
       "train_class     344\n",
       "fare            344\n",
       "price          8962\n",
       "dtype: int64"
      ]
     },
     "execution_count": 13,
     "metadata": {},
     "output_type": "execute_result"
    }
   ],
   "source": [
    "df_reduced.isna().sum()"
   ]
  },
  {
   "cell_type": "code",
   "execution_count": 14,
   "metadata": {},
   "outputs": [],
   "source": [
    "df_reduced = df_reduced.dropna()"
   ]
  },
  {
   "cell_type": "code",
   "execution_count": 15,
   "metadata": {},
   "outputs": [
    {
     "data": {
      "text/plain": [
       "origin         0\n",
       "destination    0\n",
       "start_date     0\n",
       "end_date       0\n",
       "train_type     0\n",
       "train_class    0\n",
       "fare           0\n",
       "price          0\n",
       "dtype: int64"
      ]
     },
     "execution_count": 15,
     "metadata": {},
     "output_type": "execute_result"
    }
   ],
   "source": [
    "df_reduced.isna().sum()"
   ]
  },
  {
   "cell_type": "code",
   "execution_count": 16,
   "metadata": {},
   "outputs": [
    {
     "name": "stdout",
     "output_type": "stream",
     "text": [
      "<class 'pandas.core.frame.DataFrame'>\n",
      "Int64Index: 24885 entries, 0 to 2575305\n",
      "Data columns (total 8 columns):\n",
      "origin         24885 non-null object\n",
      "destination    24885 non-null object\n",
      "start_date     24885 non-null object\n",
      "end_date       24885 non-null object\n",
      "train_type     24885 non-null object\n",
      "train_class    24885 non-null object\n",
      "fare           24885 non-null object\n",
      "price          24885 non-null float64\n",
      "dtypes: float64(1), object(7)\n",
      "memory usage: 1.7+ MB\n"
     ]
    }
   ],
   "source": [
    "df_reduced.info()"
   ]
  },
  {
   "cell_type": "markdown",
   "metadata": {},
   "source": [
    "Right now is when in the tutorial they remind you to think about your data.  There is going to be a good deal of time where you are getting familiar with your data. This phase of data science is called 'EDA'."
   ]
  },
  {
   "cell_type": "markdown",
   "metadata": {},
   "source": [
    "They don't mention it in the tutorial, but if you are messing with date columns, there's this little '.dt' thing off the end of all series.  For example, we can see that start_date and end_date are actually objects instead of dates. Let's fix that."
   ]
  },
  {
   "cell_type": "code",
   "execution_count": 17,
   "metadata": {},
   "outputs": [],
   "source": [
    "df_reduced.start_date = pd.to_datetime(df_reduced.start_date)\n",
    "df_reduced.end_date = pd.to_datetime(df_reduced.end_date)"
   ]
  },
  {
   "cell_type": "markdown",
   "metadata": {},
   "source": [
    "We can do lots of cool stuff with the .dt suffix, like detecting the day of the week, lots of stuff. We can feed that back into new columns on our dataframe too."
   ]
  },
  {
   "cell_type": "code",
   "execution_count": 18,
   "metadata": {},
   "outputs": [],
   "source": [
    "df_reduced['day_of_week'] = df_reduced.start_date.dt.dayofweek"
   ]
  },
  {
   "cell_type": "code",
   "execution_count": 19,
   "metadata": {},
   "outputs": [
    {
     "name": "stdout",
     "output_type": "stream",
     "text": [
      "<class 'pandas.core.frame.DataFrame'>\n",
      "Int64Index: 24885 entries, 0 to 2575305\n",
      "Data columns (total 9 columns):\n",
      "origin         24885 non-null object\n",
      "destination    24885 non-null object\n",
      "start_date     24885 non-null datetime64[ns]\n",
      "end_date       24885 non-null datetime64[ns]\n",
      "train_type     24885 non-null object\n",
      "train_class    24885 non-null object\n",
      "fare           24885 non-null object\n",
      "price          24885 non-null float64\n",
      "day_of_week    24885 non-null int64\n",
      "dtypes: datetime64[ns](2), float64(1), int64(1), object(5)\n",
      "memory usage: 1.9+ MB\n"
     ]
    }
   ],
   "source": [
    "df_reduced.info()"
   ]
  },
  {
   "cell_type": "markdown",
   "metadata": {},
   "source": [
    "Since i don't care what row into the original csv file the row i'm looking at came from, I'm going to reset the index and drop the old one."
   ]
  },
  {
   "cell_type": "code",
   "execution_count": 20,
   "metadata": {},
   "outputs": [
    {
     "data": {
      "text/html": [
       "<div>\n",
       "<style scoped>\n",
       "    .dataframe tbody tr th:only-of-type {\n",
       "        vertical-align: middle;\n",
       "    }\n",
       "\n",
       "    .dataframe tbody tr th {\n",
       "        vertical-align: top;\n",
       "    }\n",
       "\n",
       "    .dataframe thead th {\n",
       "        text-align: right;\n",
       "    }\n",
       "</style>\n",
       "<table border=\"1\" class=\"dataframe\">\n",
       "  <thead>\n",
       "    <tr style=\"text-align: right;\">\n",
       "      <th></th>\n",
       "      <th>origin</th>\n",
       "      <th>destination</th>\n",
       "      <th>start_date</th>\n",
       "      <th>end_date</th>\n",
       "      <th>train_type</th>\n",
       "      <th>train_class</th>\n",
       "      <th>fare</th>\n",
       "      <th>price</th>\n",
       "      <th>day_of_week</th>\n",
       "    </tr>\n",
       "  </thead>\n",
       "  <tbody>\n",
       "    <tr>\n",
       "      <th>0</th>\n",
       "      <td>MADRID</td>\n",
       "      <td>SEVILLA</td>\n",
       "      <td>2019-05-29 06:20:00</td>\n",
       "      <td>2019-05-29 09:16:00</td>\n",
       "      <td>AV City</td>\n",
       "      <td>Turista</td>\n",
       "      <td>Promo</td>\n",
       "      <td>38.55</td>\n",
       "      <td>2</td>\n",
       "    </tr>\n",
       "    <tr>\n",
       "      <th>1</th>\n",
       "      <td>MADRID</td>\n",
       "      <td>SEVILLA</td>\n",
       "      <td>2019-05-29 07:00:00</td>\n",
       "      <td>2019-05-29 09:32:00</td>\n",
       "      <td>AVE</td>\n",
       "      <td>Turista</td>\n",
       "      <td>Promo</td>\n",
       "      <td>53.40</td>\n",
       "      <td>2</td>\n",
       "    </tr>\n",
       "    <tr>\n",
       "      <th>2</th>\n",
       "      <td>MADRID</td>\n",
       "      <td>SEVILLA</td>\n",
       "      <td>2019-05-29 07:30:00</td>\n",
       "      <td>2019-05-29 09:51:00</td>\n",
       "      <td>AVE</td>\n",
       "      <td>Turista</td>\n",
       "      <td>Promo</td>\n",
       "      <td>47.30</td>\n",
       "      <td>2</td>\n",
       "    </tr>\n",
       "    <tr>\n",
       "      <th>3</th>\n",
       "      <td>MADRID</td>\n",
       "      <td>SEVILLA</td>\n",
       "      <td>2019-05-29 08:00:00</td>\n",
       "      <td>2019-05-29 10:32:00</td>\n",
       "      <td>AVE</td>\n",
       "      <td>Preferente</td>\n",
       "      <td>Promo</td>\n",
       "      <td>69.40</td>\n",
       "      <td>2</td>\n",
       "    </tr>\n",
       "    <tr>\n",
       "      <th>4</th>\n",
       "      <td>MADRID</td>\n",
       "      <td>SEVILLA</td>\n",
       "      <td>2019-05-29 09:00:00</td>\n",
       "      <td>2019-05-29 11:38:00</td>\n",
       "      <td>AVE</td>\n",
       "      <td>Turista</td>\n",
       "      <td>Promo</td>\n",
       "      <td>60.30</td>\n",
       "      <td>2</td>\n",
       "    </tr>\n",
       "  </tbody>\n",
       "</table>\n",
       "</div>"
      ],
      "text/plain": [
       "   origin destination          start_date            end_date train_type  \\\n",
       "0  MADRID     SEVILLA 2019-05-29 06:20:00 2019-05-29 09:16:00    AV City   \n",
       "1  MADRID     SEVILLA 2019-05-29 07:00:00 2019-05-29 09:32:00        AVE   \n",
       "2  MADRID     SEVILLA 2019-05-29 07:30:00 2019-05-29 09:51:00        AVE   \n",
       "3  MADRID     SEVILLA 2019-05-29 08:00:00 2019-05-29 10:32:00        AVE   \n",
       "4  MADRID     SEVILLA 2019-05-29 09:00:00 2019-05-29 11:38:00        AVE   \n",
       "\n",
       "  train_class   fare  price  day_of_week  \n",
       "0     Turista  Promo  38.55            2  \n",
       "1     Turista  Promo  53.40            2  \n",
       "2     Turista  Promo  47.30            2  \n",
       "3  Preferente  Promo  69.40            2  \n",
       "4     Turista  Promo  60.30            2  "
      ]
     },
     "execution_count": 20,
     "metadata": {},
     "output_type": "execute_result"
    }
   ],
   "source": [
    "df_reduced = df_reduced.reset_index(drop=True)\n",
    "df_reduced.head()"
   ]
  },
  {
   "cell_type": "markdown",
   "metadata": {},
   "source": [
    "# Finding rows in Pandas\n",
    "\n",
    "This probably feels pretty magical, but it's still all valid python. The R people are probably pretty used to this. Pandas really likes working with things at scale across the dataset. Let's find all rows that are going from BARCELONA to MADRID. This is usually how you'll pull rows from a pandas dataframe."
   ]
  },
  {
   "cell_type": "code",
   "execution_count": 21,
   "metadata": {},
   "outputs": [
    {
     "data": {
      "text/html": [
       "<div>\n",
       "<style scoped>\n",
       "    .dataframe tbody tr th:only-of-type {\n",
       "        vertical-align: middle;\n",
       "    }\n",
       "\n",
       "    .dataframe tbody tr th {\n",
       "        vertical-align: top;\n",
       "    }\n",
       "\n",
       "    .dataframe thead th {\n",
       "        text-align: right;\n",
       "    }\n",
       "</style>\n",
       "<table border=\"1\" class=\"dataframe\">\n",
       "  <thead>\n",
       "    <tr style=\"text-align: right;\">\n",
       "      <th></th>\n",
       "      <th>origin</th>\n",
       "      <th>destination</th>\n",
       "      <th>start_date</th>\n",
       "      <th>end_date</th>\n",
       "      <th>train_type</th>\n",
       "      <th>train_class</th>\n",
       "      <th>fare</th>\n",
       "      <th>price</th>\n",
       "      <th>day_of_week</th>\n",
       "    </tr>\n",
       "  </thead>\n",
       "  <tbody>\n",
       "    <tr>\n",
       "      <th>1626</th>\n",
       "      <td>BARCELONA</td>\n",
       "      <td>MADRID</td>\n",
       "      <td>2019-04-25 05:50:00</td>\n",
       "      <td>2019-04-25 08:20:00</td>\n",
       "      <td>AVE</td>\n",
       "      <td>Turista</td>\n",
       "      <td>Promo</td>\n",
       "      <td>49.55</td>\n",
       "      <td>3</td>\n",
       "    </tr>\n",
       "    <tr>\n",
       "      <th>1627</th>\n",
       "      <td>BARCELONA</td>\n",
       "      <td>MADRID</td>\n",
       "      <td>2019-04-25 06:05:00</td>\n",
       "      <td>2019-04-25 09:15:00</td>\n",
       "      <td>AVE</td>\n",
       "      <td>Turista Plus</td>\n",
       "      <td>Promo</td>\n",
       "      <td>80.15</td>\n",
       "      <td>3</td>\n",
       "    </tr>\n",
       "    <tr>\n",
       "      <th>1628</th>\n",
       "      <td>BARCELONA</td>\n",
       "      <td>MADRID</td>\n",
       "      <td>2019-04-25 06:25:00</td>\n",
       "      <td>2019-04-25 08:55:00</td>\n",
       "      <td>AVE</td>\n",
       "      <td>Turista</td>\n",
       "      <td>Promo</td>\n",
       "      <td>88.95</td>\n",
       "      <td>3</td>\n",
       "    </tr>\n",
       "    <tr>\n",
       "      <th>1629</th>\n",
       "      <td>BARCELONA</td>\n",
       "      <td>MADRID</td>\n",
       "      <td>2019-04-25 06:40:00</td>\n",
       "      <td>2019-04-25 09:25:00</td>\n",
       "      <td>AVE</td>\n",
       "      <td>Turista Plus</td>\n",
       "      <td>Promo</td>\n",
       "      <td>90.50</td>\n",
       "      <td>3</td>\n",
       "    </tr>\n",
       "    <tr>\n",
       "      <th>1630</th>\n",
       "      <td>BARCELONA</td>\n",
       "      <td>MADRID</td>\n",
       "      <td>2019-04-25 07:00:00</td>\n",
       "      <td>2019-04-25 09:30:00</td>\n",
       "      <td>AVE</td>\n",
       "      <td>Turista</td>\n",
       "      <td>Flexible</td>\n",
       "      <td>127.10</td>\n",
       "      <td>3</td>\n",
       "    </tr>\n",
       "  </tbody>\n",
       "</table>\n",
       "</div>"
      ],
      "text/plain": [
       "         origin destination          start_date            end_date  \\\n",
       "1626  BARCELONA      MADRID 2019-04-25 05:50:00 2019-04-25 08:20:00   \n",
       "1627  BARCELONA      MADRID 2019-04-25 06:05:00 2019-04-25 09:15:00   \n",
       "1628  BARCELONA      MADRID 2019-04-25 06:25:00 2019-04-25 08:55:00   \n",
       "1629  BARCELONA      MADRID 2019-04-25 06:40:00 2019-04-25 09:25:00   \n",
       "1630  BARCELONA      MADRID 2019-04-25 07:00:00 2019-04-25 09:30:00   \n",
       "\n",
       "     train_type   train_class      fare   price  day_of_week  \n",
       "1626        AVE       Turista     Promo   49.55            3  \n",
       "1627        AVE  Turista Plus     Promo   80.15            3  \n",
       "1628        AVE       Turista     Promo   88.95            3  \n",
       "1629        AVE  Turista Plus     Promo   90.50            3  \n",
       "1630        AVE       Turista  Flexible  127.10            3  "
      ]
     },
     "execution_count": 21,
     "metadata": {},
     "output_type": "execute_result"
    }
   ],
   "source": [
    "df_barcelona_madrid = df_reduced[(df_reduced.origin == 'BARCELONA') & (df_reduced.destination == 'MADRID')]\n",
    "df_barcelona_madrid.head()"
   ]
  },
  {
   "cell_type": "markdown",
   "metadata": {},
   "source": [
    "Under the covers, those boolean operations are becoming Series objects, which are what each of the columns of a dataframe are. The bitwise and (&) has been overridden to work as a logical and:"
   ]
  },
  {
   "cell_type": "code",
   "execution_count": 22,
   "metadata": {},
   "outputs": [
    {
     "data": {
      "text/plain": [
       "0    False\n",
       "1    False\n",
       "2    False\n",
       "3    False\n",
       "4    False\n",
       "dtype: bool"
      ]
     },
     "execution_count": 22,
     "metadata": {},
     "output_type": "execute_result"
    }
   ],
   "source": [
    "((df_reduced.destination == 'MADRID') & (df_reduced.origin == 'BARCELONA' )).head()"
   ]
  },
  {
   "cell_type": "markdown",
   "metadata": {},
   "source": [
    "Those booleans then feed in and filter out rows where the expression is false, leaving a data frame with only the True rows in it. The dataframe will filter this way for anything returing a collection of booleans. For example:"
   ]
  },
  {
   "cell_type": "code",
   "execution_count": 23,
   "metadata": {},
   "outputs": [
    {
     "data": {
      "text/html": [
       "<div>\n",
       "<style scoped>\n",
       "    .dataframe tbody tr th:only-of-type {\n",
       "        vertical-align: middle;\n",
       "    }\n",
       "\n",
       "    .dataframe tbody tr th {\n",
       "        vertical-align: top;\n",
       "    }\n",
       "\n",
       "    .dataframe thead th {\n",
       "        text-align: right;\n",
       "    }\n",
       "</style>\n",
       "<table border=\"1\" class=\"dataframe\">\n",
       "  <thead>\n",
       "    <tr style=\"text-align: right;\">\n",
       "      <th></th>\n",
       "      <th>origin</th>\n",
       "      <th>destination</th>\n",
       "      <th>start_date</th>\n",
       "      <th>end_date</th>\n",
       "      <th>train_type</th>\n",
       "      <th>train_class</th>\n",
       "      <th>fare</th>\n",
       "      <th>price</th>\n",
       "      <th>day_of_week</th>\n",
       "    </tr>\n",
       "  </thead>\n",
       "  <tbody>\n",
       "    <tr>\n",
       "      <th>4</th>\n",
       "      <td>MADRID</td>\n",
       "      <td>SEVILLA</td>\n",
       "      <td>2019-05-29 09:00:00</td>\n",
       "      <td>2019-05-29 11:38:00</td>\n",
       "      <td>AVE</td>\n",
       "      <td>Turista</td>\n",
       "      <td>Promo</td>\n",
       "      <td>60.3</td>\n",
       "      <td>2</td>\n",
       "    </tr>\n",
       "    <tr>\n",
       "      <th>5</th>\n",
       "      <td>MADRID</td>\n",
       "      <td>SEVILLA</td>\n",
       "      <td>2019-05-29 09:45:00</td>\n",
       "      <td>2019-05-29 12:27:00</td>\n",
       "      <td>INTERCITY</td>\n",
       "      <td>Turista</td>\n",
       "      <td>Flexible</td>\n",
       "      <td>62.2</td>\n",
       "      <td>2</td>\n",
       "    </tr>\n",
       "    <tr>\n",
       "      <th>6</th>\n",
       "      <td>MADRID</td>\n",
       "      <td>SEVILLA</td>\n",
       "      <td>2019-05-29 10:00:00</td>\n",
       "      <td>2019-05-29 12:32:00</td>\n",
       "      <td>AVE</td>\n",
       "      <td>Turista</td>\n",
       "      <td>Promo</td>\n",
       "      <td>47.3</td>\n",
       "      <td>2</td>\n",
       "    </tr>\n",
       "  </tbody>\n",
       "</table>\n",
       "</div>"
      ],
      "text/plain": [
       "   origin destination          start_date            end_date train_type  \\\n",
       "4  MADRID     SEVILLA 2019-05-29 09:00:00 2019-05-29 11:38:00        AVE   \n",
       "5  MADRID     SEVILLA 2019-05-29 09:45:00 2019-05-29 12:27:00  INTERCITY   \n",
       "6  MADRID     SEVILLA 2019-05-29 10:00:00 2019-05-29 12:32:00        AVE   \n",
       "\n",
       "  train_class      fare  price  day_of_week  \n",
       "4     Turista     Promo   60.3            2  \n",
       "5     Turista  Flexible   62.2            2  \n",
       "6     Turista     Promo   47.3            2  "
      ]
     },
     "execution_count": 23,
     "metadata": {},
     "output_type": "execute_result"
    }
   ],
   "source": [
    "df_reduced[[x in (4,5,6) for x in range(len(df_reduced))]]"
   ]
  },
  {
   "cell_type": "markdown",
   "metadata": {},
   "source": [
    "Yes, this makes the array operator horribly overloaded, because this works completely differently:"
   ]
  },
  {
   "cell_type": "code",
   "execution_count": 24,
   "metadata": {},
   "outputs": [
    {
     "data": {
      "text/html": [
       "<div>\n",
       "<style scoped>\n",
       "    .dataframe tbody tr th:only-of-type {\n",
       "        vertical-align: middle;\n",
       "    }\n",
       "\n",
       "    .dataframe tbody tr th {\n",
       "        vertical-align: top;\n",
       "    }\n",
       "\n",
       "    .dataframe thead th {\n",
       "        text-align: right;\n",
       "    }\n",
       "</style>\n",
       "<table border=\"1\" class=\"dataframe\">\n",
       "  <thead>\n",
       "    <tr style=\"text-align: right;\">\n",
       "      <th></th>\n",
       "      <th>price</th>\n",
       "      <th>day_of_week</th>\n",
       "    </tr>\n",
       "  </thead>\n",
       "  <tbody>\n",
       "    <tr>\n",
       "      <th>0</th>\n",
       "      <td>38.55</td>\n",
       "      <td>2</td>\n",
       "    </tr>\n",
       "    <tr>\n",
       "      <th>1</th>\n",
       "      <td>53.40</td>\n",
       "      <td>2</td>\n",
       "    </tr>\n",
       "    <tr>\n",
       "      <th>2</th>\n",
       "      <td>47.30</td>\n",
       "      <td>2</td>\n",
       "    </tr>\n",
       "    <tr>\n",
       "      <th>3</th>\n",
       "      <td>69.40</td>\n",
       "      <td>2</td>\n",
       "    </tr>\n",
       "    <tr>\n",
       "      <th>4</th>\n",
       "      <td>60.30</td>\n",
       "      <td>2</td>\n",
       "    </tr>\n",
       "  </tbody>\n",
       "</table>\n",
       "</div>"
      ],
      "text/plain": [
       "   price  day_of_week\n",
       "0  38.55            2\n",
       "1  53.40            2\n",
       "2  47.30            2\n",
       "3  69.40            2\n",
       "4  60.30            2"
      ]
     },
     "execution_count": 24,
     "metadata": {},
     "output_type": "execute_result"
    }
   ],
   "source": [
    "df_reduced[['price', 'day_of_week']].head()"
   ]
  },
  {
   "cell_type": "markdown",
   "metadata": {},
   "source": [
    "Just go with it. It actually is rarely confusing for the reader."
   ]
  },
  {
   "cell_type": "markdown",
   "metadata": {},
   "source": [
    "# Getting specific locations\n",
    "\n",
    "You can iterate over the rows as well, and if you need a specific row, you can use the 'iloc' function and pull it out by row index."
   ]
  },
  {
   "cell_type": "code",
   "execution_count": 25,
   "metadata": {},
   "outputs": [
    {
     "name": "stdout",
     "output_type": "stream",
     "text": [
      "BARCELONA\n"
     ]
    }
   ],
   "source": [
    "for origin in df_barcelona_madrid['origin'].unique():\n",
    "    print(origin)"
   ]
  },
  {
   "cell_type": "code",
   "execution_count": 26,
   "metadata": {},
   "outputs": [
    {
     "data": {
      "text/plain": [
       "'BARCELONA'"
      ]
     },
     "execution_count": 26,
     "metadata": {},
     "output_type": "execute_result"
    }
   ],
   "source": [
    "df_barcelona_madrid['origin'].unique()[0]"
   ]
  },
  {
   "cell_type": "markdown",
   "metadata": {},
   "source": [
    "iloc is the accessor for just grabbing \"row x\" from the dataset."
   ]
  },
  {
   "cell_type": "code",
   "execution_count": 27,
   "metadata": {},
   "outputs": [
    {
     "data": {
      "text/plain": [
       "origin                   BARCELONA\n",
       "destination                 MADRID\n",
       "start_date     2019-04-25 06:05:00\n",
       "end_date       2019-04-25 09:15:00\n",
       "train_type                     AVE\n",
       "train_class           Turista Plus\n",
       "fare                         Promo\n",
       "price                        80.15\n",
       "day_of_week                      3\n",
       "Name: 1627, dtype: object"
      ]
     },
     "execution_count": 27,
     "metadata": {},
     "output_type": "execute_result"
    }
   ],
   "source": [
    "df_barcelona_madrid.iloc[1]"
   ]
  },
  {
   "cell_type": "markdown",
   "metadata": {},
   "source": [
    "loc is the accessor for grabbing a row by the index it's using. You can see the index via the \".index\" field."
   ]
  },
  {
   "cell_type": "code",
   "execution_count": 28,
   "metadata": {},
   "outputs": [
    {
     "data": {
      "text/plain": [
       "Int64Index([ 1626,  1627,  1628,  1629,  1630,  1631,  1632,  1633,  1634,\n",
       "             1635,\n",
       "            ...\n",
       "            24827, 24861, 24862, 24863, 24864, 24865, 24866, 24867, 24868,\n",
       "            24869],\n",
       "           dtype='int64', length=5680)"
      ]
     },
     "execution_count": 28,
     "metadata": {},
     "output_type": "execute_result"
    }
   ],
   "source": [
    "df_barcelona_madrid.index"
   ]
  },
  {
   "cell_type": "markdown",
   "metadata": {},
   "source": [
    "These two pull back the same row."
   ]
  },
  {
   "cell_type": "code",
   "execution_count": 29,
   "metadata": {},
   "outputs": [
    {
     "data": {
      "text/plain": [
       "(origin                   BARCELONA\n",
       " destination                 MADRID\n",
       " start_date     2019-04-25 05:50:00\n",
       " end_date       2019-04-25 08:20:00\n",
       " train_type                     AVE\n",
       " train_class                Turista\n",
       " fare                         Promo\n",
       " price                        49.55\n",
       " day_of_week                      3\n",
       " Name: 1626, dtype: object, origin                   BARCELONA\n",
       " destination                 MADRID\n",
       " start_date     2019-04-25 05:50:00\n",
       " end_date       2019-04-25 08:20:00\n",
       " train_type                     AVE\n",
       " train_class                Turista\n",
       " fare                         Promo\n",
       " price                        49.55\n",
       " day_of_week                      3\n",
       " Name: 1626, dtype: object)"
      ]
     },
     "execution_count": 29,
     "metadata": {},
     "output_type": "execute_result"
    }
   ],
   "source": [
    "df_barcelona_madrid.loc[1626], df_barcelona_madrid.iloc[0]"
   ]
  },
  {
   "cell_type": "markdown",
   "metadata": {},
   "source": [
    "Messing with these series can sometimes get weird, depending on your indexing schemes.  One thing to note, all these methods are making leaving the original dataset intact. If you want to actually change the original dataset, a lot of these operations have an in_place=True parameter that can be given."
   ]
  },
  {
   "cell_type": "code",
   "execution_count": 30,
   "metadata": {},
   "outputs": [
    {
     "data": {
      "text/plain": [
       "price  count    606.000000\n",
       "       mean      83.100396\n",
       "       std       23.128094\n",
       "       min       38.800000\n",
       "       25%       67.240000\n",
       "       50%       80.150000\n",
       "       75%       98.000000\n",
       "       max      181.500000\n",
       "Name: 5, dtype: float64"
      ]
     },
     "execution_count": 30,
     "metadata": {},
     "output_type": "execute_result"
    }
   ],
   "source": [
    "df_barcelona_madrid.groupby('day_of_week').describe().loc[5]"
   ]
  },
  {
   "cell_type": "code",
   "execution_count": 31,
   "metadata": {},
   "outputs": [
    {
     "data": {
      "text/html": [
       "<div>\n",
       "<style scoped>\n",
       "    .dataframe tbody tr th:only-of-type {\n",
       "        vertical-align: middle;\n",
       "    }\n",
       "\n",
       "    .dataframe tbody tr th {\n",
       "        vertical-align: top;\n",
       "    }\n",
       "\n",
       "    .dataframe thead tr th {\n",
       "        text-align: left;\n",
       "    }\n",
       "\n",
       "    .dataframe thead tr:last-of-type th {\n",
       "        text-align: right;\n",
       "    }\n",
       "</style>\n",
       "<table border=\"1\" class=\"dataframe\">\n",
       "  <thead>\n",
       "    <tr>\n",
       "      <th></th>\n",
       "      <th></th>\n",
       "      <th colspan=\"8\" halign=\"left\">price</th>\n",
       "      <th colspan=\"8\" halign=\"left\">day_of_week</th>\n",
       "    </tr>\n",
       "    <tr>\n",
       "      <th></th>\n",
       "      <th></th>\n",
       "      <th>count</th>\n",
       "      <th>mean</th>\n",
       "      <th>std</th>\n",
       "      <th>min</th>\n",
       "      <th>25%</th>\n",
       "      <th>50%</th>\n",
       "      <th>75%</th>\n",
       "      <th>max</th>\n",
       "      <th>count</th>\n",
       "      <th>mean</th>\n",
       "      <th>std</th>\n",
       "      <th>min</th>\n",
       "      <th>25%</th>\n",
       "      <th>50%</th>\n",
       "      <th>75%</th>\n",
       "      <th>max</th>\n",
       "    </tr>\n",
       "    <tr>\n",
       "      <th>train_type</th>\n",
       "      <th>train_class</th>\n",
       "      <th></th>\n",
       "      <th></th>\n",
       "      <th></th>\n",
       "      <th></th>\n",
       "      <th></th>\n",
       "      <th></th>\n",
       "      <th></th>\n",
       "      <th></th>\n",
       "      <th></th>\n",
       "      <th></th>\n",
       "      <th></th>\n",
       "      <th></th>\n",
       "      <th></th>\n",
       "      <th></th>\n",
       "      <th></th>\n",
       "      <th></th>\n",
       "    </tr>\n",
       "  </thead>\n",
       "  <tbody>\n",
       "    <tr>\n",
       "      <th rowspan=\"3\" valign=\"top\">AVE</th>\n",
       "      <th>Preferente</th>\n",
       "      <td>942.0</td>\n",
       "      <td>122.911019</td>\n",
       "      <td>38.918866</td>\n",
       "      <td>53.20</td>\n",
       "      <td>98.00</td>\n",
       "      <td>112.55</td>\n",
       "      <td>143.40</td>\n",
       "      <td>214.20</td>\n",
       "      <td>942.0</td>\n",
       "      <td>3.014862</td>\n",
       "      <td>2.121143</td>\n",
       "      <td>0.0</td>\n",
       "      <td>1.00</td>\n",
       "      <td>3.0</td>\n",
       "      <td>5.0</td>\n",
       "      <td>6.0</td>\n",
       "    </tr>\n",
       "    <tr>\n",
       "      <th>Turista</th>\n",
       "      <td>2979.0</td>\n",
       "      <td>84.189070</td>\n",
       "      <td>18.641292</td>\n",
       "      <td>40.95</td>\n",
       "      <td>68.65</td>\n",
       "      <td>85.10</td>\n",
       "      <td>100.40</td>\n",
       "      <td>127.10</td>\n",
       "      <td>2979.0</td>\n",
       "      <td>2.748909</td>\n",
       "      <td>1.960848</td>\n",
       "      <td>0.0</td>\n",
       "      <td>1.00</td>\n",
       "      <td>3.0</td>\n",
       "      <td>4.0</td>\n",
       "      <td>6.0</td>\n",
       "    </tr>\n",
       "    <tr>\n",
       "      <th>Turista Plus</th>\n",
       "      <td>1405.0</td>\n",
       "      <td>88.585174</td>\n",
       "      <td>21.175557</td>\n",
       "      <td>38.80</td>\n",
       "      <td>80.15</td>\n",
       "      <td>90.50</td>\n",
       "      <td>102.15</td>\n",
       "      <td>152.50</td>\n",
       "      <td>1405.0</td>\n",
       "      <td>2.929537</td>\n",
       "      <td>1.944388</td>\n",
       "      <td>0.0</td>\n",
       "      <td>1.00</td>\n",
       "      <td>3.0</td>\n",
       "      <td>4.0</td>\n",
       "      <td>6.0</td>\n",
       "    </tr>\n",
       "    <tr>\n",
       "      <th rowspan=\"3\" valign=\"top\">AVE-TGV</th>\n",
       "      <th>Preferente</th>\n",
       "      <td>33.0</td>\n",
       "      <td>134.810606</td>\n",
       "      <td>38.119421</td>\n",
       "      <td>68.95</td>\n",
       "      <td>98.00</td>\n",
       "      <td>127.05</td>\n",
       "      <td>181.50</td>\n",
       "      <td>181.50</td>\n",
       "      <td>33.0</td>\n",
       "      <td>3.909091</td>\n",
       "      <td>1.738599</td>\n",
       "      <td>0.0</td>\n",
       "      <td>3.00</td>\n",
       "      <td>4.0</td>\n",
       "      <td>5.0</td>\n",
       "      <td>6.0</td>\n",
       "    </tr>\n",
       "    <tr>\n",
       "      <th>Turista</th>\n",
       "      <td>181.0</td>\n",
       "      <td>71.867901</td>\n",
       "      <td>21.174658</td>\n",
       "      <td>32.30</td>\n",
       "      <td>58.15</td>\n",
       "      <td>66.75</td>\n",
       "      <td>85.10</td>\n",
       "      <td>107.70</td>\n",
       "      <td>181.0</td>\n",
       "      <td>3.022099</td>\n",
       "      <td>2.046558</td>\n",
       "      <td>0.0</td>\n",
       "      <td>1.00</td>\n",
       "      <td>3.0</td>\n",
       "      <td>5.0</td>\n",
       "      <td>6.0</td>\n",
       "    </tr>\n",
       "    <tr>\n",
       "      <th>Turista Plus</th>\n",
       "      <td>56.0</td>\n",
       "      <td>95.166071</td>\n",
       "      <td>17.779613</td>\n",
       "      <td>69.80</td>\n",
       "      <td>80.15</td>\n",
       "      <td>90.50</td>\n",
       "      <td>102.15</td>\n",
       "      <td>129.30</td>\n",
       "      <td>56.0</td>\n",
       "      <td>3.142857</td>\n",
       "      <td>1.967265</td>\n",
       "      <td>0.0</td>\n",
       "      <td>1.75</td>\n",
       "      <td>3.0</td>\n",
       "      <td>5.0</td>\n",
       "      <td>6.0</td>\n",
       "    </tr>\n",
       "    <tr>\n",
       "      <th>R. EXPRES</th>\n",
       "      <th>Turista</th>\n",
       "      <td>84.0</td>\n",
       "      <td>43.250000</td>\n",
       "      <td>0.000000</td>\n",
       "      <td>43.25</td>\n",
       "      <td>43.25</td>\n",
       "      <td>43.25</td>\n",
       "      <td>43.25</td>\n",
       "      <td>43.25</td>\n",
       "      <td>84.0</td>\n",
       "      <td>3.000000</td>\n",
       "      <td>2.012012</td>\n",
       "      <td>0.0</td>\n",
       "      <td>1.00</td>\n",
       "      <td>3.0</td>\n",
       "      <td>5.0</td>\n",
       "      <td>6.0</td>\n",
       "    </tr>\n",
       "  </tbody>\n",
       "</table>\n",
       "</div>"
      ],
      "text/plain": [
       "                          price                                               \\\n",
       "                          count        mean        std    min    25%     50%   \n",
       "train_type train_class                                                         \n",
       "AVE        Preferente     942.0  122.911019  38.918866  53.20  98.00  112.55   \n",
       "           Turista       2979.0   84.189070  18.641292  40.95  68.65   85.10   \n",
       "           Turista Plus  1405.0   88.585174  21.175557  38.80  80.15   90.50   \n",
       "AVE-TGV    Preferente      33.0  134.810606  38.119421  68.95  98.00  127.05   \n",
       "           Turista        181.0   71.867901  21.174658  32.30  58.15   66.75   \n",
       "           Turista Plus    56.0   95.166071  17.779613  69.80  80.15   90.50   \n",
       "R. EXPRES  Turista         84.0   43.250000   0.000000  43.25  43.25   43.25   \n",
       "\n",
       "                                        day_of_week                           \\\n",
       "                            75%     max       count      mean       std  min   \n",
       "train_type train_class                                                         \n",
       "AVE        Preferente    143.40  214.20       942.0  3.014862  2.121143  0.0   \n",
       "           Turista       100.40  127.10      2979.0  2.748909  1.960848  0.0   \n",
       "           Turista Plus  102.15  152.50      1405.0  2.929537  1.944388  0.0   \n",
       "AVE-TGV    Preferente    181.50  181.50        33.0  3.909091  1.738599  0.0   \n",
       "           Turista        85.10  107.70       181.0  3.022099  2.046558  0.0   \n",
       "           Turista Plus  102.15  129.30        56.0  3.142857  1.967265  0.0   \n",
       "R. EXPRES  Turista        43.25   43.25        84.0  3.000000  2.012012  0.0   \n",
       "\n",
       "                                              \n",
       "                          25%  50%  75%  max  \n",
       "train_type train_class                        \n",
       "AVE        Preferente    1.00  3.0  5.0  6.0  \n",
       "           Turista       1.00  3.0  4.0  6.0  \n",
       "           Turista Plus  1.00  3.0  4.0  6.0  \n",
       "AVE-TGV    Preferente    3.00  4.0  5.0  6.0  \n",
       "           Turista       1.00  3.0  5.0  6.0  \n",
       "           Turista Plus  1.75  3.0  5.0  6.0  \n",
       "R. EXPRES  Turista       1.00  3.0  5.0  6.0  "
      ]
     },
     "execution_count": 31,
     "metadata": {},
     "output_type": "execute_result"
    }
   ],
   "source": [
    "df_barcelona_madrid.groupby(['train_type','train_class']).describe()"
   ]
  },
  {
   "cell_type": "code",
   "execution_count": 32,
   "metadata": {},
   "outputs": [
    {
     "data": {
      "text/plain": [
       "85.1"
      ]
     },
     "execution_count": 32,
     "metadata": {},
     "output_type": "execute_result"
    }
   ],
   "source": [
    "df_barcelona_madrid.groupby(['train_type','train_class']).describe().loc[('AVE','Turista')]['price']['50%']"
   ]
  },
  {
   "cell_type": "markdown",
   "metadata": {},
   "source": [
    "# Plotting\n",
    "\n",
    "Pandas uses matplotlib under the covers, and, like everything else, it can do a ton right out of the box.\n",
    "Let's see what prices look like for that based on the day of the week."
   ]
  },
  {
   "cell_type": "code",
   "execution_count": 33,
   "metadata": {},
   "outputs": [
    {
     "data": {
      "text/plain": [
       "<matplotlib.axes._subplots.AxesSubplot at 0x7fdb91895940>"
      ]
     },
     "execution_count": 33,
     "metadata": {},
     "output_type": "execute_result"
    },
    {
     "data": {
      "image/png": "[encoded data removed]",
      "text/plain": [
       "<Figure size 1080x720 with 1 Axes>"
      ]
     },
     "metadata": {},
     "output_type": "display_data"
    }
   ],
   "source": [
    "df_barcelona_madrid.plot.scatter(x='day_of_week', y='price', figsize=(15,10))"
   ]
  },
  {
   "cell_type": "markdown",
   "metadata": {},
   "source": [
    "Well, that's interesting, prices are basically all over the place. It might be a good idea to look at these across days of the week with a more interesting plot."
   ]
  },
  {
   "cell_type": "code",
   "execution_count": 34,
   "metadata": {},
   "outputs": [
    {
     "data": {
      "text/html": [
       "<div>\n",
       "<style scoped>\n",
       "    .dataframe tbody tr th:only-of-type {\n",
       "        vertical-align: middle;\n",
       "    }\n",
       "\n",
       "    .dataframe tbody tr th {\n",
       "        vertical-align: top;\n",
       "    }\n",
       "\n",
       "    .dataframe thead th {\n",
       "        text-align: right;\n",
       "    }\n",
       "</style>\n",
       "<table border=\"1\" class=\"dataframe\">\n",
       "  <thead>\n",
       "    <tr style=\"text-align: right;\">\n",
       "      <th></th>\n",
       "      <th>count</th>\n",
       "      <th>mean</th>\n",
       "      <th>std</th>\n",
       "      <th>min</th>\n",
       "      <th>25%</th>\n",
       "      <th>50%</th>\n",
       "      <th>75%</th>\n",
       "      <th>max</th>\n",
       "    </tr>\n",
       "    <tr>\n",
       "      <th>day_of_week</th>\n",
       "      <th></th>\n",
       "      <th></th>\n",
       "      <th></th>\n",
       "      <th></th>\n",
       "      <th></th>\n",
       "      <th></th>\n",
       "      <th></th>\n",
       "      <th></th>\n",
       "    </tr>\n",
       "  </thead>\n",
       "  <tbody>\n",
       "    <tr>\n",
       "      <th>0</th>\n",
       "      <td>891.0</td>\n",
       "      <td>92.718114</td>\n",
       "      <td>28.039138</td>\n",
       "      <td>40.95</td>\n",
       "      <td>75.40</td>\n",
       "      <td>85.10</td>\n",
       "      <td>107.70</td>\n",
       "      <td>214.2</td>\n",
       "    </tr>\n",
       "    <tr>\n",
       "      <th>1</th>\n",
       "      <td>872.0</td>\n",
       "      <td>88.349656</td>\n",
       "      <td>28.870093</td>\n",
       "      <td>38.80</td>\n",
       "      <td>68.65</td>\n",
       "      <td>85.10</td>\n",
       "      <td>102.15</td>\n",
       "      <td>214.2</td>\n",
       "    </tr>\n",
       "    <tr>\n",
       "      <th>2</th>\n",
       "      <td>813.0</td>\n",
       "      <td>90.154945</td>\n",
       "      <td>30.183114</td>\n",
       "      <td>38.80</td>\n",
       "      <td>68.95</td>\n",
       "      <td>85.10</td>\n",
       "      <td>102.15</td>\n",
       "      <td>214.2</td>\n",
       "    </tr>\n",
       "    <tr>\n",
       "      <th>3</th>\n",
       "      <td>819.0</td>\n",
       "      <td>89.492149</td>\n",
       "      <td>28.192135</td>\n",
       "      <td>38.80</td>\n",
       "      <td>69.80</td>\n",
       "      <td>85.10</td>\n",
       "      <td>102.15</td>\n",
       "      <td>214.2</td>\n",
       "    </tr>\n",
       "    <tr>\n",
       "      <th>4</th>\n",
       "      <td>905.0</td>\n",
       "      <td>93.182950</td>\n",
       "      <td>27.492131</td>\n",
       "      <td>43.25</td>\n",
       "      <td>75.40</td>\n",
       "      <td>86.80</td>\n",
       "      <td>106.75</td>\n",
       "      <td>214.2</td>\n",
       "    </tr>\n",
       "    <tr>\n",
       "      <th>5</th>\n",
       "      <td>606.0</td>\n",
       "      <td>83.100396</td>\n",
       "      <td>23.128094</td>\n",
       "      <td>38.80</td>\n",
       "      <td>67.24</td>\n",
       "      <td>80.15</td>\n",
       "      <td>98.00</td>\n",
       "      <td>181.5</td>\n",
       "    </tr>\n",
       "    <tr>\n",
       "      <th>6</th>\n",
       "      <td>774.0</td>\n",
       "      <td>98.876667</td>\n",
       "      <td>30.903659</td>\n",
       "      <td>32.30</td>\n",
       "      <td>80.15</td>\n",
       "      <td>90.50</td>\n",
       "      <td>107.70</td>\n",
       "      <td>214.2</td>\n",
       "    </tr>\n",
       "  </tbody>\n",
       "</table>\n",
       "</div>"
      ],
      "text/plain": [
       "             count       mean        std    min    25%    50%     75%    max\n",
       "day_of_week                                                                 \n",
       "0            891.0  92.718114  28.039138  40.95  75.40  85.10  107.70  214.2\n",
       "1            872.0  88.349656  28.870093  38.80  68.65  85.10  102.15  214.2\n",
       "2            813.0  90.154945  30.183114  38.80  68.95  85.10  102.15  214.2\n",
       "3            819.0  89.492149  28.192135  38.80  69.80  85.10  102.15  214.2\n",
       "4            905.0  93.182950  27.492131  43.25  75.40  86.80  106.75  214.2\n",
       "5            606.0  83.100396  23.128094  38.80  67.24  80.15   98.00  181.5\n",
       "6            774.0  98.876667  30.903659  32.30  80.15  90.50  107.70  214.2"
      ]
     },
     "execution_count": 34,
     "metadata": {},
     "output_type": "execute_result"
    }
   ],
   "source": [
    "df_barcelona_madrid.groupby('day_of_week')['price'].describe()"
   ]
  },
  {
   "cell_type": "code",
   "execution_count": 35,
   "metadata": {},
   "outputs": [
    {
     "data": {
      "text/plain": [
       "<matplotlib.axes._subplots.AxesSubplot at 0x7fdb917e0160>"
      ]
     },
     "execution_count": 35,
     "metadata": {},
     "output_type": "execute_result"
    },
    {
     "data": {
      "image/png": "[encoded data removed]",
      "text/plain": [
       "<Figure size 1080x720 with 1 Axes>"
      ]
     },
     "metadata": {},
     "output_type": "display_data"
    }
   ],
   "source": [
    "df_barcelona_madrid.boxplot(column=['price'], by='day_of_week', figsize=(15, 10))"
   ]
  },
  {
   "cell_type": "markdown",
   "metadata": {},
   "source": [
    "# Decision Trees\n",
    "\n",
    "Decision trees are a pretty simple concept. The idea is to make a tree where, at each node, you evaluate a feature to categorize a sample. This isn't just for categorization, though. It is also for regression. Although, in a way, with decision trees, regression is just categorization. Since it still goes down to a leaf node. The category is just its estimated value."
   ]
  },
  {
   "cell_type": "code",
   "execution_count": 36,
   "metadata": {},
   "outputs": [
    {
     "name": "stderr",
     "output_type": "stream",
     "text": [
      "/usr/local/lib/python3.6/dist-packages/sklearn/cross_validation.py:41: DeprecationWarning: This module was deprecated in version 0.18 in favor of the model_selection module into which all the refactored classes and functions are moved. Also note that the interface of the new CV iterators are different from that of this module. This module will be removed in 0.20.\n",
      "  \"This module will be removed in 0.20.\", DeprecationWarning)\n"
     ]
    }
   ],
   "source": [
    "from sklearn.tree import DecisionTreeRegressor\n",
    "from sklearn.tree import export_graphviz\n",
    "from sklearn.cross_validation import train_test_split\n",
    "from sklearn.metrics import mean_squared_error"
   ]
  },
  {
   "cell_type": "markdown",
   "metadata": {},
   "source": [
    "The lab already had numerical values that were used for estimation. Our values are categorical still. In order to use these columns, we will need to convert them to numbers. Because converting to just numbers isn't good enough, it's probably a good idea to one-hot encode these as well, so that way we aren't accidentally suggesting proximity between two categories."
   ]
  },
  {
   "cell_type": "code",
   "execution_count": 37,
   "metadata": {},
   "outputs": [],
   "source": [
    "cat_cols = ['origin', 'destination', 'train_type', 'train_class', 'fare', 'day_of_week']\n",
    "X = pd.get_dummies(df_reduced[cat_cols])\n",
    "y = df_reduced[target]"
   ]
  },
  {
   "cell_type": "code",
   "execution_count": 38,
   "metadata": {},
   "outputs": [],
   "source": [
    "\n",
    "train_X, val_X, train_y, val_y = train_test_split(X, y, random_state=1)"
   ]
  },
  {
   "cell_type": "code",
   "execution_count": 39,
   "metadata": {},
   "outputs": [
    {
     "data": {
      "text/plain": [
       "((18663, 39), (18663, 1))"
      ]
     },
     "execution_count": 39,
     "metadata": {},
     "output_type": "execute_result"
    }
   ],
   "source": [
    "train_X.shape, train_y.shape"
   ]
  },
  {
   "cell_type": "code",
   "execution_count": 40,
   "metadata": {},
   "outputs": [],
   "source": [
    "??DecisionTreeRegressor"
   ]
  },
  {
   "cell_type": "code",
   "execution_count": 41,
   "metadata": {},
   "outputs": [
    {
     "data": {
      "text/plain": [
       "DecisionTreeRegressor(criterion='mse', max_depth=None, max_features=None,\n",
       "           max_leaf_nodes=250, min_impurity_decrease=0.0,\n",
       "           min_impurity_split=None, min_samples_leaf=1,\n",
       "           min_samples_split=2, min_weight_fraction_leaf=0.0,\n",
       "           presort=False, random_state=1, splitter='best')"
      ]
     },
     "execution_count": 41,
     "metadata": {},
     "output_type": "execute_result"
    }
   ],
   "source": [
    "best_leaf_nodes = 1\n",
    "best_mse = -1\n",
    "\n",
    "# We'll try out a few options\n",
    "for max_leaf_nodes in [10, 20, 50, 100, 150, 250, 300, 350, 500, 1000]:\n",
    "    tree_regressor = DecisionTreeRegressor(max_leaf_nodes=max_leaf_nodes, random_state=1, criterion='mse')\n",
    "    tree_regressor.fit(train_X, train_y)\n",
    "    mse = mean_squared_error(tree_regressor.predict(val_X), val_y)\n",
    "    if best_mse < 0 or best_mse > mse:\n",
    "        best_mse = mse\n",
    "        best_leaf_nodes = max_leaf_nodes\n",
    "        \n",
    "tree_regressor = DecisionTreeRegressor(max_leaf_nodes=best_leaf_nodes, random_state=1)\n",
    "tree_regressor.fit(train_X, train_y)"
   ]
  },
  {
   "cell_type": "code",
   "execution_count": 42,
   "metadata": {},
   "outputs": [],
   "source": [
    "with open('decision-tree.dot', 'w') as dotfile:\n",
    "    export_graphviz(tree_regressor, out_file=dotfile)\n",
    "    call(['dot', '-Tpdf', 'decision-tree.dot', '-o', 'decision-tree.pdf'])"
   ]
  },
  {
   "cell_type": "markdown",
   "metadata": {},
   "source": [
    "That's pretty cool! We've got a decision tree. It's not so cool that the columns didn't stay labeled, but hey! Check this out, we can find out what the column was by using X.columns. The top column was 28 I think. This means that splitting by this class was found to be the action that had the most discriminating effect on the sample. With a regression tree, this uses whatever feature or features reduces the squared error of both sides the most. "
   ]
  },
  {
   "cell_type": "code",
   "execution_count": 43,
   "metadata": {},
   "outputs": [
    {
     "data": {
      "text/plain": [
       "('fare_Flexible', 'train_class_Preferente', 'destination_BARCELONA')"
      ]
     },
     "execution_count": 43,
     "metadata": {},
     "output_type": "execute_result"
    }
   ],
   "source": [
    "X.columns[33], X.columns[28], X.columns[6]"
   ]
  },
  {
   "cell_type": "markdown",
   "metadata": {},
   "source": [
    "Well, not going to lie, this tree is complex, and, I can't tell at first glance how it got to what it got. Let's see how this does on our validation set."
   ]
  },
  {
   "cell_type": "code",
   "execution_count": 44,
   "metadata": {},
   "outputs": [
    {
     "data": {
      "text/plain": [
       "(12.29766424744311, 72.49336066012967)"
      ]
     },
     "execution_count": 44,
     "metadata": {},
     "output_type": "execute_result"
    }
   ],
   "source": [
    "np.sqrt(mean_squared_error(tree_regressor.predict(train_X), train_y)), train_y['price'].mean()"
   ]
  },
  {
   "cell_type": "code",
   "execution_count": 45,
   "metadata": {},
   "outputs": [
    {
     "data": {
      "text/plain": [
       "(12.484849581974117, 72.01083574413371)"
      ]
     },
     "execution_count": 45,
     "metadata": {},
     "output_type": "execute_result"
    }
   ],
   "source": [
    "np.sqrt(mean_squared_error(tree_regressor.predict(val_X), val_y)), val_y['price'].mean()"
   ]
  },
  {
   "cell_type": "markdown",
   "metadata": {},
   "source": [
    "Well cool. This means our predictor has a standard deviation of about 12.49 euros. Given a mean of 72.01, that's not horrible. 2 Standard deviations is like 25 euros, which isn't great, either. 2 standard deviations are often kind of considered the range of how wrong your model is because that roughly lines up with the 95% confidence interval."
   ]
  },
  {
   "cell_type": "code",
   "execution_count": 46,
   "metadata": {},
   "outputs": [
    {
     "data": {
      "text/html": [
       "<div>\n",
       "<style scoped>\n",
       "    .dataframe tbody tr th:only-of-type {\n",
       "        vertical-align: middle;\n",
       "    }\n",
       "\n",
       "    .dataframe tbody tr th {\n",
       "        vertical-align: top;\n",
       "    }\n",
       "\n",
       "    .dataframe thead th {\n",
       "        text-align: right;\n",
       "    }\n",
       "</style>\n",
       "<table border=\"1\" class=\"dataframe\">\n",
       "  <thead>\n",
       "    <tr style=\"text-align: right;\">\n",
       "      <th></th>\n",
       "      <th>y_hat</th>\n",
       "      <th>y</th>\n",
       "      <th>err</th>\n",
       "      <th>se</th>\n",
       "    </tr>\n",
       "  </thead>\n",
       "  <tbody>\n",
       "    <tr>\n",
       "      <th>0</th>\n",
       "      <td>85.813019</td>\n",
       "      <td>102.15</td>\n",
       "      <td>-16.336981</td>\n",
       "      <td>266.896953</td>\n",
       "    </tr>\n",
       "    <tr>\n",
       "      <th>1</th>\n",
       "      <td>78.991672</td>\n",
       "      <td>75.40</td>\n",
       "      <td>3.591672</td>\n",
       "      <td>12.900111</td>\n",
       "    </tr>\n",
       "    <tr>\n",
       "      <th>2</th>\n",
       "      <td>79.156426</td>\n",
       "      <td>100.40</td>\n",
       "      <td>-21.243574</td>\n",
       "      <td>451.289431</td>\n",
       "    </tr>\n",
       "    <tr>\n",
       "      <th>3</th>\n",
       "      <td>110.480870</td>\n",
       "      <td>98.00</td>\n",
       "      <td>12.480870</td>\n",
       "      <td>155.772105</td>\n",
       "    </tr>\n",
       "    <tr>\n",
       "      <th>4</th>\n",
       "      <td>57.018644</td>\n",
       "      <td>40.30</td>\n",
       "      <td>16.718644</td>\n",
       "      <td>279.513059</td>\n",
       "    </tr>\n",
       "  </tbody>\n",
       "</table>\n",
       "</div>"
      ],
      "text/plain": [
       "        y_hat       y        err          se\n",
       "0   85.813019  102.15 -16.336981  266.896953\n",
       "1   78.991672   75.40   3.591672   12.900111\n",
       "2   79.156426  100.40 -21.243574  451.289431\n",
       "3  110.480870   98.00  12.480870  155.772105\n",
       "4   57.018644   40.30  16.718644  279.513059"
      ]
     },
     "execution_count": 46,
     "metadata": {},
     "output_type": "execute_result"
    }
   ],
   "source": [
    "y_hat = tree_regressor.predict(val_X).reshape(-1, 1)\n",
    "results = pd.DataFrame(\n",
    "    np.concatenate([y_hat, val_y, (y_hat - val_y), (y_hat-val_y) **2], axis=1),\n",
    "    columns=['y_hat', 'y', 'err', 'se'])\n",
    "results.head()"
   ]
  },
  {
   "cell_type": "code",
   "execution_count": 47,
   "metadata": {},
   "outputs": [
    {
     "data": {
      "text/plain": [
       "<matplotlib.axes._subplots.AxesSubplot at 0x7fdb6f181550>"
      ]
     },
     "execution_count": 47,
     "metadata": {},
     "output_type": "execute_result"
    },
    {
     "data": {
      "image/png": "[encoded data removed]",
      "text/plain": [
       "<Figure size 432x288 with 1 Axes>"
      ]
     },
     "metadata": {},
     "output_type": "display_data"
    }
   ],
   "source": [
    "results.plot.scatter(x='y',y='err')"
   ]
  },
  {
   "cell_type": "markdown",
   "metadata": {},
   "source": [
    "Based on that graph, I can tell that our current estimator is overestimating some values and underestimating some others. We can even find the N worst samples and see if anything stands out about them."
   ]
  },
  {
   "cell_type": "code",
   "execution_count": 48,
   "metadata": {},
   "outputs": [
    {
     "data": {
      "text/html": [
       "<div>\n",
       "<style scoped>\n",
       "    .dataframe tbody tr th:only-of-type {\n",
       "        vertical-align: middle;\n",
       "    }\n",
       "\n",
       "    .dataframe tbody tr th {\n",
       "        vertical-align: top;\n",
       "    }\n",
       "\n",
       "    .dataframe thead th {\n",
       "        text-align: right;\n",
       "    }\n",
       "</style>\n",
       "<table border=\"1\" class=\"dataframe\">\n",
       "  <thead>\n",
       "    <tr style=\"text-align: right;\">\n",
       "      <th></th>\n",
       "      <th>y_hat</th>\n",
       "      <th>y</th>\n",
       "      <th>err</th>\n",
       "      <th>se</th>\n",
       "    </tr>\n",
       "  </thead>\n",
       "  <tbody>\n",
       "    <tr>\n",
       "      <th>5246</th>\n",
       "      <td>112.385050</td>\n",
       "      <td>54.45</td>\n",
       "      <td>57.935050</td>\n",
       "      <td>3356.469961</td>\n",
       "    </tr>\n",
       "    <tr>\n",
       "      <th>4978</th>\n",
       "      <td>112.385050</td>\n",
       "      <td>54.45</td>\n",
       "      <td>57.935050</td>\n",
       "      <td>3356.469961</td>\n",
       "    </tr>\n",
       "    <tr>\n",
       "      <th>829</th>\n",
       "      <td>110.480870</td>\n",
       "      <td>169.20</td>\n",
       "      <td>-58.719130</td>\n",
       "      <td>3447.936279</td>\n",
       "    </tr>\n",
       "    <tr>\n",
       "      <th>211</th>\n",
       "      <td>113.902885</td>\n",
       "      <td>54.45</td>\n",
       "      <td>59.452885</td>\n",
       "      <td>3534.645489</td>\n",
       "    </tr>\n",
       "    <tr>\n",
       "      <th>5120</th>\n",
       "      <td>108.928298</td>\n",
       "      <td>169.20</td>\n",
       "      <td>-60.271702</td>\n",
       "      <td>3632.678077</td>\n",
       "    </tr>\n",
       "    <tr>\n",
       "      <th>1354</th>\n",
       "      <td>108.248333</td>\n",
       "      <td>169.20</td>\n",
       "      <td>-60.951667</td>\n",
       "      <td>3715.105669</td>\n",
       "    </tr>\n",
       "    <tr>\n",
       "      <th>3127</th>\n",
       "      <td>108.248333</td>\n",
       "      <td>169.20</td>\n",
       "      <td>-60.951667</td>\n",
       "      <td>3715.105669</td>\n",
       "    </tr>\n",
       "    <tr>\n",
       "      <th>5172</th>\n",
       "      <td>108.248333</td>\n",
       "      <td>169.20</td>\n",
       "      <td>-60.951667</td>\n",
       "      <td>3715.105669</td>\n",
       "    </tr>\n",
       "    <tr>\n",
       "      <th>4499</th>\n",
       "      <td>107.605523</td>\n",
       "      <td>169.20</td>\n",
       "      <td>-61.594477</td>\n",
       "      <td>3793.879565</td>\n",
       "    </tr>\n",
       "    <tr>\n",
       "      <th>3556</th>\n",
       "      <td>103.674098</td>\n",
       "      <td>169.20</td>\n",
       "      <td>-65.525902</td>\n",
       "      <td>4293.643786</td>\n",
       "    </tr>\n",
       "  </tbody>\n",
       "</table>\n",
       "</div>"
      ],
      "text/plain": [
       "           y_hat       y        err           se\n",
       "5246  112.385050   54.45  57.935050  3356.469961\n",
       "4978  112.385050   54.45  57.935050  3356.469961\n",
       "829   110.480870  169.20 -58.719130  3447.936279\n",
       "211   113.902885   54.45  59.452885  3534.645489\n",
       "5120  108.928298  169.20 -60.271702  3632.678077\n",
       "1354  108.248333  169.20 -60.951667  3715.105669\n",
       "3127  108.248333  169.20 -60.951667  3715.105669\n",
       "5172  108.248333  169.20 -60.951667  3715.105669\n",
       "4499  107.605523  169.20 -61.594477  3793.879565\n",
       "3556  103.674098  169.20 -65.525902  4293.643786"
      ]
     },
     "execution_count": 48,
     "metadata": {},
     "output_type": "execute_result"
    }
   ],
   "source": [
    "n_worst = results.sort_values(by='se').tail(10)\n",
    "n_worst"
   ]
  },
  {
   "cell_type": "markdown",
   "metadata": {},
   "source": [
    "And here are the values for these. The row selection here is pretty gnarly. Basically, the results dataframe isn't indexed by the original rows the way val_y is. It's just indexed with the rows from val_y. the iloc locator just pulls back \"row X\" while the loc locator pulls back \"index X\", represented by the bold number on the right."
   ]
  },
  {
   "cell_type": "code",
   "execution_count": 49,
   "metadata": {},
   "outputs": [
    {
     "data": {
      "text/html": [
       "<div>\n",
       "<style scoped>\n",
       "    .dataframe tbody tr th:only-of-type {\n",
       "        vertical-align: middle;\n",
       "    }\n",
       "\n",
       "    .dataframe tbody tr th {\n",
       "        vertical-align: top;\n",
       "    }\n",
       "\n",
       "    .dataframe thead th {\n",
       "        text-align: right;\n",
       "    }\n",
       "</style>\n",
       "<table border=\"1\" class=\"dataframe\">\n",
       "  <thead>\n",
       "    <tr style=\"text-align: right;\">\n",
       "      <th></th>\n",
       "      <th>origin</th>\n",
       "      <th>destination</th>\n",
       "      <th>start_date</th>\n",
       "      <th>end_date</th>\n",
       "      <th>train_type</th>\n",
       "      <th>train_class</th>\n",
       "      <th>fare</th>\n",
       "      <th>price</th>\n",
       "      <th>day_of_week</th>\n",
       "    </tr>\n",
       "  </thead>\n",
       "  <tbody>\n",
       "    <tr>\n",
       "      <th>16348</th>\n",
       "      <td>MADRID</td>\n",
       "      <td>BARCELONA</td>\n",
       "      <td>2019-06-04 20:30:00</td>\n",
       "      <td>2019-06-04 23:40:00</td>\n",
       "      <td>AVE</td>\n",
       "      <td>Preferente</td>\n",
       "      <td>Promo</td>\n",
       "      <td>54.45</td>\n",
       "      <td>1</td>\n",
       "    </tr>\n",
       "    <tr>\n",
       "      <th>15873</th>\n",
       "      <td>MADRID</td>\n",
       "      <td>BARCELONA</td>\n",
       "      <td>2019-06-25 20:30:00</td>\n",
       "      <td>2019-06-25 23:40:00</td>\n",
       "      <td>AVE</td>\n",
       "      <td>Preferente</td>\n",
       "      <td>Promo</td>\n",
       "      <td>54.45</td>\n",
       "      <td>1</td>\n",
       "    </tr>\n",
       "    <tr>\n",
       "      <th>9931</th>\n",
       "      <td>BARCELONA</td>\n",
       "      <td>MADRID</td>\n",
       "      <td>2019-04-25 07:40:00</td>\n",
       "      <td>2019-04-25 10:10:00</td>\n",
       "      <td>AVE</td>\n",
       "      <td>Preferente</td>\n",
       "      <td>Promo</td>\n",
       "      <td>169.20</td>\n",
       "      <td>3</td>\n",
       "    </tr>\n",
       "    <tr>\n",
       "      <th>21768</th>\n",
       "      <td>MADRID</td>\n",
       "      <td>BARCELONA</td>\n",
       "      <td>2019-05-05 06:20:00</td>\n",
       "      <td>2019-05-05 09:29:00</td>\n",
       "      <td>AVE</td>\n",
       "      <td>Preferente</td>\n",
       "      <td>Promo</td>\n",
       "      <td>54.45</td>\n",
       "      <td>6</td>\n",
       "    </tr>\n",
       "    <tr>\n",
       "      <th>8755</th>\n",
       "      <td>MADRID</td>\n",
       "      <td>BARCELONA</td>\n",
       "      <td>2019-04-24 20:00:00</td>\n",
       "      <td>2019-04-24 22:30:00</td>\n",
       "      <td>AVE</td>\n",
       "      <td>Preferente</td>\n",
       "      <td>Promo</td>\n",
       "      <td>169.20</td>\n",
       "      <td>2</td>\n",
       "    </tr>\n",
       "    <tr>\n",
       "      <th>22101</th>\n",
       "      <td>MADRID</td>\n",
       "      <td>BARCELONA</td>\n",
       "      <td>2019-04-12 17:00:00</td>\n",
       "      <td>2019-04-12 19:30:00</td>\n",
       "      <td>AVE</td>\n",
       "      <td>Preferente</td>\n",
       "      <td>Promo</td>\n",
       "      <td>169.20</td>\n",
       "      <td>4</td>\n",
       "    </tr>\n",
       "    <tr>\n",
       "      <th>22327</th>\n",
       "      <td>MADRID</td>\n",
       "      <td>BARCELONA</td>\n",
       "      <td>2019-04-12 19:00:00</td>\n",
       "      <td>2019-04-12 21:30:00</td>\n",
       "      <td>AVE</td>\n",
       "      <td>Preferente</td>\n",
       "      <td>Promo</td>\n",
       "      <td>169.20</td>\n",
       "      <td>4</td>\n",
       "    </tr>\n",
       "    <tr>\n",
       "      <th>8780</th>\n",
       "      <td>MADRID</td>\n",
       "      <td>BARCELONA</td>\n",
       "      <td>2019-04-26 19:00:00</td>\n",
       "      <td>2019-04-26 21:30:00</td>\n",
       "      <td>AVE</td>\n",
       "      <td>Preferente</td>\n",
       "      <td>Promo</td>\n",
       "      <td>169.20</td>\n",
       "      <td>4</td>\n",
       "    </tr>\n",
       "    <tr>\n",
       "      <th>14721</th>\n",
       "      <td>BARCELONA</td>\n",
       "      <td>MADRID</td>\n",
       "      <td>2019-05-07 19:25:00</td>\n",
       "      <td>2019-05-07 21:55:00</td>\n",
       "      <td>AVE</td>\n",
       "      <td>Preferente</td>\n",
       "      <td>Promo</td>\n",
       "      <td>169.20</td>\n",
       "      <td>1</td>\n",
       "    </tr>\n",
       "    <tr>\n",
       "      <th>24653</th>\n",
       "      <td>MADRID</td>\n",
       "      <td>BARCELONA</td>\n",
       "      <td>2019-04-22 14:00:00</td>\n",
       "      <td>2019-04-22 16:30:00</td>\n",
       "      <td>AVE</td>\n",
       "      <td>Preferente</td>\n",
       "      <td>Promo</td>\n",
       "      <td>169.20</td>\n",
       "      <td>0</td>\n",
       "    </tr>\n",
       "  </tbody>\n",
       "</table>\n",
       "</div>"
      ],
      "text/plain": [
       "          origin destination          start_date            end_date  \\\n",
       "16348     MADRID   BARCELONA 2019-06-04 20:30:00 2019-06-04 23:40:00   \n",
       "15873     MADRID   BARCELONA 2019-06-25 20:30:00 2019-06-25 23:40:00   \n",
       "9931   BARCELONA      MADRID 2019-04-25 07:40:00 2019-04-25 10:10:00   \n",
       "21768     MADRID   BARCELONA 2019-05-05 06:20:00 2019-05-05 09:29:00   \n",
       "8755      MADRID   BARCELONA 2019-04-24 20:00:00 2019-04-24 22:30:00   \n",
       "22101     MADRID   BARCELONA 2019-04-12 17:00:00 2019-04-12 19:30:00   \n",
       "22327     MADRID   BARCELONA 2019-04-12 19:00:00 2019-04-12 21:30:00   \n",
       "8780      MADRID   BARCELONA 2019-04-26 19:00:00 2019-04-26 21:30:00   \n",
       "14721  BARCELONA      MADRID 2019-05-07 19:25:00 2019-05-07 21:55:00   \n",
       "24653     MADRID   BARCELONA 2019-04-22 14:00:00 2019-04-22 16:30:00   \n",
       "\n",
       "      train_type train_class   fare   price  day_of_week  \n",
       "16348        AVE  Preferente  Promo   54.45            1  \n",
       "15873        AVE  Preferente  Promo   54.45            1  \n",
       "9931         AVE  Preferente  Promo  169.20            3  \n",
       "21768        AVE  Preferente  Promo   54.45            6  \n",
       "8755         AVE  Preferente  Promo  169.20            2  \n",
       "22101        AVE  Preferente  Promo  169.20            4  \n",
       "22327        AVE  Preferente  Promo  169.20            4  \n",
       "8780         AVE  Preferente  Promo  169.20            4  \n",
       "14721        AVE  Preferente  Promo  169.20            1  \n",
       "24653        AVE  Preferente  Promo  169.20            0  "
      ]
     },
     "execution_count": 49,
     "metadata": {},
     "output_type": "execute_result"
    }
   ],
   "source": [
    "df_reduced.loc[val_y.iloc[n_worst.index].index]"
   ]
  },
  {
   "cell_type": "markdown",
   "metadata": {},
   "source": [
    "Obviously, the way that decision trees are used in this tutorial is more of a \"throw the tree library at it\". If you're interested in how decision trees determine what to separate things by, check out this youtube video (and lots of others by that channel).\n",
    "\n",
    "* (Part 1) https://www.youtube.com/watch?v=7VeUPuFGJHk\n",
    "* (Part 2) https://www.youtube.com/watch?v=wpNl-JwwplA\n",
    "\n",
    "(Seriously, watch this channel's videos. They're excellent)."
   ]
  },
  {
   "cell_type": "markdown",
   "metadata": {},
   "source": [
    "# Random Forests\n",
    "\n",
    "Decision trees sort of have an obvious flaw: they're classifying by a single column, and they're prone to overfitting. Ours didn't overfit too much, but we were using the defaults."
   ]
  },
  {
   "cell_type": "code",
   "execution_count": 50,
   "metadata": {},
   "outputs": [],
   "source": [
    "from sklearn.ensemble import RandomForestRegressor"
   ]
  },
  {
   "cell_type": "code",
   "execution_count": 51,
   "metadata": {},
   "outputs": [],
   "source": [
    "random_forest = RandomForestRegressor(random_state=1, n_estimators=10, max_leaf_nodes=250)"
   ]
  },
  {
   "cell_type": "code",
   "execution_count": 52,
   "metadata": {},
   "outputs": [
    {
     "data": {
      "text/plain": [
       "RandomForestRegressor(bootstrap=True, criterion='mse', max_depth=None,\n",
       "           max_features='auto', max_leaf_nodes=250,\n",
       "           min_impurity_decrease=0.0, min_impurity_split=None,\n",
       "           min_samples_leaf=1, min_samples_split=2,\n",
       "           min_weight_fraction_leaf=0.0, n_estimators=10, n_jobs=1,\n",
       "           oob_score=False, random_state=1, verbose=0, warm_start=False)"
      ]
     },
     "execution_count": 52,
     "metadata": {},
     "output_type": "execute_result"
    }
   ],
   "source": [
    "random_forest.fit(train_X, train_y.to_numpy().reshape(-1))"
   ]
  },
  {
   "cell_type": "code",
   "execution_count": 53,
   "metadata": {},
   "outputs": [
    {
     "data": {
      "text/plain": [
       "(12.304297846516212, 72.49336066012967)"
      ]
     },
     "execution_count": 53,
     "metadata": {},
     "output_type": "execute_result"
    }
   ],
   "source": [
    "np.sqrt(mean_squared_error(random_forest.predict(train_X), train_y)), train_y['price'].mean()"
   ]
  },
  {
   "cell_type": "code",
   "execution_count": 54,
   "metadata": {},
   "outputs": [
    {
     "data": {
      "text/plain": [
       "(12.47868589553467, 72.01083574413371)"
      ]
     },
     "execution_count": 54,
     "metadata": {},
     "output_type": "execute_result"
    }
   ],
   "source": [
    "np.sqrt(mean_squared_error(random_forest.predict(val_X), val_y)), val_y['price'].mean()"
   ]
  },
  {
   "cell_type": "code",
   "execution_count": 55,
   "metadata": {},
   "outputs": [
    {
     "data": {
      "text/html": [
       "<div>\n",
       "<style scoped>\n",
       "    .dataframe tbody tr th:only-of-type {\n",
       "        vertical-align: middle;\n",
       "    }\n",
       "\n",
       "    .dataframe tbody tr th {\n",
       "        vertical-align: top;\n",
       "    }\n",
       "\n",
       "    .dataframe thead th {\n",
       "        text-align: right;\n",
       "    }\n",
       "</style>\n",
       "<table border=\"1\" class=\"dataframe\">\n",
       "  <thead>\n",
       "    <tr style=\"text-align: right;\">\n",
       "      <th></th>\n",
       "      <th>y_hat</th>\n",
       "      <th>y</th>\n",
       "      <th>err</th>\n",
       "      <th>se</th>\n",
       "    </tr>\n",
       "  </thead>\n",
       "  <tbody>\n",
       "    <tr>\n",
       "      <th>0</th>\n",
       "      <td>86.386641</td>\n",
       "      <td>102.15</td>\n",
       "      <td>-15.763359</td>\n",
       "      <td>248.483477</td>\n",
       "    </tr>\n",
       "    <tr>\n",
       "      <th>1</th>\n",
       "      <td>79.462670</td>\n",
       "      <td>75.40</td>\n",
       "      <td>4.062670</td>\n",
       "      <td>16.505290</td>\n",
       "    </tr>\n",
       "    <tr>\n",
       "      <th>2</th>\n",
       "      <td>78.887631</td>\n",
       "      <td>100.40</td>\n",
       "      <td>-21.512369</td>\n",
       "      <td>462.782018</td>\n",
       "    </tr>\n",
       "    <tr>\n",
       "      <th>3</th>\n",
       "      <td>109.254509</td>\n",
       "      <td>98.00</td>\n",
       "      <td>11.254509</td>\n",
       "      <td>126.663984</td>\n",
       "    </tr>\n",
       "    <tr>\n",
       "      <th>4</th>\n",
       "      <td>56.764264</td>\n",
       "      <td>40.30</td>\n",
       "      <td>16.464264</td>\n",
       "      <td>271.071980</td>\n",
       "    </tr>\n",
       "  </tbody>\n",
       "</table>\n",
       "</div>"
      ],
      "text/plain": [
       "        y_hat       y        err          se\n",
       "0   86.386641  102.15 -15.763359  248.483477\n",
       "1   79.462670   75.40   4.062670   16.505290\n",
       "2   78.887631  100.40 -21.512369  462.782018\n",
       "3  109.254509   98.00  11.254509  126.663984\n",
       "4   56.764264   40.30  16.464264  271.071980"
      ]
     },
     "execution_count": 55,
     "metadata": {},
     "output_type": "execute_result"
    }
   ],
   "source": [
    "y_hat_rf = random_forest.predict(val_X).reshape(-1, 1)\n",
    "results_rf = pd.DataFrame(\n",
    "    np.concatenate([y_hat_rf, val_y, (y_hat_rf - val_y), (y_hat_rf - val_y) **2], axis=1),\n",
    "    columns=['y_hat', 'y', 'err', 'se'])\n",
    "results_rf.head()"
   ]
  },
  {
   "cell_type": "code",
   "execution_count": 56,
   "metadata": {},
   "outputs": [
    {
     "data": {
      "text/plain": [
       "<matplotlib.axes._subplots.AxesSubplot at 0x7fdb6ec43128>"
      ]
     },
     "execution_count": 56,
     "metadata": {},
     "output_type": "execute_result"
    },
    {
     "data": {
      "image/png": "[encoded data removed]",
      "text/plain": [
       "<Figure size 432x288 with 1 Axes>"
      ]
     },
     "metadata": {},
     "output_type": "display_data"
    }
   ],
   "source": [
    "results_rf.plot.scatter(x='y',y='err')"
   ]
  },
  {
   "cell_type": "code",
   "execution_count": 57,
   "metadata": {},
   "outputs": [
    {
     "data": {
      "text/html": [
       "<div>\n",
       "<style scoped>\n",
       "    .dataframe tbody tr th:only-of-type {\n",
       "        vertical-align: middle;\n",
       "    }\n",
       "\n",
       "    .dataframe tbody tr th {\n",
       "        vertical-align: top;\n",
       "    }\n",
       "\n",
       "    .dataframe thead th {\n",
       "        text-align: right;\n",
       "    }\n",
       "</style>\n",
       "<table border=\"1\" class=\"dataframe\">\n",
       "  <thead>\n",
       "    <tr style=\"text-align: right;\">\n",
       "      <th></th>\n",
       "      <th>y_hat</th>\n",
       "      <th>y</th>\n",
       "      <th>err</th>\n",
       "      <th>se</th>\n",
       "    </tr>\n",
       "  </thead>\n",
       "  <tbody>\n",
       "    <tr>\n",
       "      <th>5246</th>\n",
       "      <td>112.385050</td>\n",
       "      <td>54.45</td>\n",
       "      <td>57.935050</td>\n",
       "      <td>3356.469961</td>\n",
       "    </tr>\n",
       "    <tr>\n",
       "      <th>4978</th>\n",
       "      <td>112.385050</td>\n",
       "      <td>54.45</td>\n",
       "      <td>57.935050</td>\n",
       "      <td>3356.469961</td>\n",
       "    </tr>\n",
       "    <tr>\n",
       "      <th>829</th>\n",
       "      <td>110.480870</td>\n",
       "      <td>169.20</td>\n",
       "      <td>-58.719130</td>\n",
       "      <td>3447.936279</td>\n",
       "    </tr>\n",
       "    <tr>\n",
       "      <th>211</th>\n",
       "      <td>113.902885</td>\n",
       "      <td>54.45</td>\n",
       "      <td>59.452885</td>\n",
       "      <td>3534.645489</td>\n",
       "    </tr>\n",
       "    <tr>\n",
       "      <th>5120</th>\n",
       "      <td>108.928298</td>\n",
       "      <td>169.20</td>\n",
       "      <td>-60.271702</td>\n",
       "      <td>3632.678077</td>\n",
       "    </tr>\n",
       "    <tr>\n",
       "      <th>1354</th>\n",
       "      <td>108.248333</td>\n",
       "      <td>169.20</td>\n",
       "      <td>-60.951667</td>\n",
       "      <td>3715.105669</td>\n",
       "    </tr>\n",
       "    <tr>\n",
       "      <th>3127</th>\n",
       "      <td>108.248333</td>\n",
       "      <td>169.20</td>\n",
       "      <td>-60.951667</td>\n",
       "      <td>3715.105669</td>\n",
       "    </tr>\n",
       "    <tr>\n",
       "      <th>5172</th>\n",
       "      <td>108.248333</td>\n",
       "      <td>169.20</td>\n",
       "      <td>-60.951667</td>\n",
       "      <td>3715.105669</td>\n",
       "    </tr>\n",
       "    <tr>\n",
       "      <th>4499</th>\n",
       "      <td>107.605523</td>\n",
       "      <td>169.20</td>\n",
       "      <td>-61.594477</td>\n",
       "      <td>3793.879565</td>\n",
       "    </tr>\n",
       "    <tr>\n",
       "      <th>3556</th>\n",
       "      <td>103.674098</td>\n",
       "      <td>169.20</td>\n",
       "      <td>-65.525902</td>\n",
       "      <td>4293.643786</td>\n",
       "    </tr>\n",
       "  </tbody>\n",
       "</table>\n",
       "</div>"
      ],
      "text/plain": [
       "           y_hat       y        err           se\n",
       "5246  112.385050   54.45  57.935050  3356.469961\n",
       "4978  112.385050   54.45  57.935050  3356.469961\n",
       "829   110.480870  169.20 -58.719130  3447.936279\n",
       "211   113.902885   54.45  59.452885  3534.645489\n",
       "5120  108.928298  169.20 -60.271702  3632.678077\n",
       "1354  108.248333  169.20 -60.951667  3715.105669\n",
       "3127  108.248333  169.20 -60.951667  3715.105669\n",
       "5172  108.248333  169.20 -60.951667  3715.105669\n",
       "4499  107.605523  169.20 -61.594477  3793.879565\n",
       "3556  103.674098  169.20 -65.525902  4293.643786"
      ]
     },
     "execution_count": 57,
     "metadata": {},
     "output_type": "execute_result"
    }
   ],
   "source": [
    "n_worst_rf = results.sort_values(by='se').tail(10)\n",
    "n_worst_rf"
   ]
  },
  {
   "cell_type": "code",
   "execution_count": 58,
   "metadata": {},
   "outputs": [
    {
     "data": {
      "text/html": [
       "<div>\n",
       "<style scoped>\n",
       "    .dataframe tbody tr th:only-of-type {\n",
       "        vertical-align: middle;\n",
       "    }\n",
       "\n",
       "    .dataframe tbody tr th {\n",
       "        vertical-align: top;\n",
       "    }\n",
       "\n",
       "    .dataframe thead th {\n",
       "        text-align: right;\n",
       "    }\n",
       "</style>\n",
       "<table border=\"1\" class=\"dataframe\">\n",
       "  <thead>\n",
       "    <tr style=\"text-align: right;\">\n",
       "      <th></th>\n",
       "      <th>origin</th>\n",
       "      <th>destination</th>\n",
       "      <th>start_date</th>\n",
       "      <th>end_date</th>\n",
       "      <th>train_type</th>\n",
       "      <th>train_class</th>\n",
       "      <th>fare</th>\n",
       "      <th>price</th>\n",
       "      <th>day_of_week</th>\n",
       "    </tr>\n",
       "  </thead>\n",
       "  <tbody>\n",
       "    <tr>\n",
       "      <th>16348</th>\n",
       "      <td>MADRID</td>\n",
       "      <td>BARCELONA</td>\n",
       "      <td>2019-06-04 20:30:00</td>\n",
       "      <td>2019-06-04 23:40:00</td>\n",
       "      <td>AVE</td>\n",
       "      <td>Preferente</td>\n",
       "      <td>Promo</td>\n",
       "      <td>54.45</td>\n",
       "      <td>1</td>\n",
       "    </tr>\n",
       "    <tr>\n",
       "      <th>15873</th>\n",
       "      <td>MADRID</td>\n",
       "      <td>BARCELONA</td>\n",
       "      <td>2019-06-25 20:30:00</td>\n",
       "      <td>2019-06-25 23:40:00</td>\n",
       "      <td>AVE</td>\n",
       "      <td>Preferente</td>\n",
       "      <td>Promo</td>\n",
       "      <td>54.45</td>\n",
       "      <td>1</td>\n",
       "    </tr>\n",
       "    <tr>\n",
       "      <th>9931</th>\n",
       "      <td>BARCELONA</td>\n",
       "      <td>MADRID</td>\n",
       "      <td>2019-04-25 07:40:00</td>\n",
       "      <td>2019-04-25 10:10:00</td>\n",
       "      <td>AVE</td>\n",
       "      <td>Preferente</td>\n",
       "      <td>Promo</td>\n",
       "      <td>169.20</td>\n",
       "      <td>3</td>\n",
       "    </tr>\n",
       "    <tr>\n",
       "      <th>21768</th>\n",
       "      <td>MADRID</td>\n",
       "      <td>BARCELONA</td>\n",
       "      <td>2019-05-05 06:20:00</td>\n",
       "      <td>2019-05-05 09:29:00</td>\n",
       "      <td>AVE</td>\n",
       "      <td>Preferente</td>\n",
       "      <td>Promo</td>\n",
       "      <td>54.45</td>\n",
       "      <td>6</td>\n",
       "    </tr>\n",
       "    <tr>\n",
       "      <th>8755</th>\n",
       "      <td>MADRID</td>\n",
       "      <td>BARCELONA</td>\n",
       "      <td>2019-04-24 20:00:00</td>\n",
       "      <td>2019-04-24 22:30:00</td>\n",
       "      <td>AVE</td>\n",
       "      <td>Preferente</td>\n",
       "      <td>Promo</td>\n",
       "      <td>169.20</td>\n",
       "      <td>2</td>\n",
       "    </tr>\n",
       "    <tr>\n",
       "      <th>22101</th>\n",
       "      <td>MADRID</td>\n",
       "      <td>BARCELONA</td>\n",
       "      <td>2019-04-12 17:00:00</td>\n",
       "      <td>2019-04-12 19:30:00</td>\n",
       "      <td>AVE</td>\n",
       "      <td>Preferente</td>\n",
       "      <td>Promo</td>\n",
       "      <td>169.20</td>\n",
       "      <td>4</td>\n",
       "    </tr>\n",
       "    <tr>\n",
       "      <th>22327</th>\n",
       "      <td>MADRID</td>\n",
       "      <td>BARCELONA</td>\n",
       "      <td>2019-04-12 19:00:00</td>\n",
       "      <td>2019-04-12 21:30:00</td>\n",
       "      <td>AVE</td>\n",
       "      <td>Preferente</td>\n",
       "      <td>Promo</td>\n",
       "      <td>169.20</td>\n",
       "      <td>4</td>\n",
       "    </tr>\n",
       "    <tr>\n",
       "      <th>8780</th>\n",
       "      <td>MADRID</td>\n",
       "      <td>BARCELONA</td>\n",
       "      <td>2019-04-26 19:00:00</td>\n",
       "      <td>2019-04-26 21:30:00</td>\n",
       "      <td>AVE</td>\n",
       "      <td>Preferente</td>\n",
       "      <td>Promo</td>\n",
       "      <td>169.20</td>\n",
       "      <td>4</td>\n",
       "    </tr>\n",
       "    <tr>\n",
       "      <th>14721</th>\n",
       "      <td>BARCELONA</td>\n",
       "      <td>MADRID</td>\n",
       "      <td>2019-05-07 19:25:00</td>\n",
       "      <td>2019-05-07 21:55:00</td>\n",
       "      <td>AVE</td>\n",
       "      <td>Preferente</td>\n",
       "      <td>Promo</td>\n",
       "      <td>169.20</td>\n",
       "      <td>1</td>\n",
       "    </tr>\n",
       "    <tr>\n",
       "      <th>24653</th>\n",
       "      <td>MADRID</td>\n",
       "      <td>BARCELONA</td>\n",
       "      <td>2019-04-22 14:00:00</td>\n",
       "      <td>2019-04-22 16:30:00</td>\n",
       "      <td>AVE</td>\n",
       "      <td>Preferente</td>\n",
       "      <td>Promo</td>\n",
       "      <td>169.20</td>\n",
       "      <td>0</td>\n",
       "    </tr>\n",
       "  </tbody>\n",
       "</table>\n",
       "</div>"
      ],
      "text/plain": [
       "          origin destination          start_date            end_date  \\\n",
       "16348     MADRID   BARCELONA 2019-06-04 20:30:00 2019-06-04 23:40:00   \n",
       "15873     MADRID   BARCELONA 2019-06-25 20:30:00 2019-06-25 23:40:00   \n",
       "9931   BARCELONA      MADRID 2019-04-25 07:40:00 2019-04-25 10:10:00   \n",
       "21768     MADRID   BARCELONA 2019-05-05 06:20:00 2019-05-05 09:29:00   \n",
       "8755      MADRID   BARCELONA 2019-04-24 20:00:00 2019-04-24 22:30:00   \n",
       "22101     MADRID   BARCELONA 2019-04-12 17:00:00 2019-04-12 19:30:00   \n",
       "22327     MADRID   BARCELONA 2019-04-12 19:00:00 2019-04-12 21:30:00   \n",
       "8780      MADRID   BARCELONA 2019-04-26 19:00:00 2019-04-26 21:30:00   \n",
       "14721  BARCELONA      MADRID 2019-05-07 19:25:00 2019-05-07 21:55:00   \n",
       "24653     MADRID   BARCELONA 2019-04-22 14:00:00 2019-04-22 16:30:00   \n",
       "\n",
       "      train_type train_class   fare   price  day_of_week  \n",
       "16348        AVE  Preferente  Promo   54.45            1  \n",
       "15873        AVE  Preferente  Promo   54.45            1  \n",
       "9931         AVE  Preferente  Promo  169.20            3  \n",
       "21768        AVE  Preferente  Promo   54.45            6  \n",
       "8755         AVE  Preferente  Promo  169.20            2  \n",
       "22101        AVE  Preferente  Promo  169.20            4  \n",
       "22327        AVE  Preferente  Promo  169.20            4  \n",
       "8780         AVE  Preferente  Promo  169.20            4  \n",
       "14721        AVE  Preferente  Promo  169.20            1  \n",
       "24653        AVE  Preferente  Promo  169.20            0  "
      ]
     },
     "execution_count": 58,
     "metadata": {},
     "output_type": "execute_result"
    }
   ],
   "source": [
    "df_reduced.loc[val_y.iloc[n_worst_rf.index].index]"
   ]
  },
  {
   "cell_type": "code",
   "execution_count": 59,
   "metadata": {},
   "outputs": [],
   "source": [
    "for idx, x in enumerate(random_forest.estimators_, 0):\n",
    "    with open(f'random-forest-{idx}.dot', 'w') as dotfile:\n",
    "        export_graphviz(x, out_file=dotfile)\n",
    "    call(['dot', '-Tpdf', f'random-forest-{idx}.dot', '-o', f'random-forest-{idx}.pdf'])"
   ]
  },
  {
   "cell_type": "markdown",
   "metadata": {},
   "source": [
    "Random forests are also taken as a given, but there are some great videos here too.\n",
    "\n",
    "* (Part 1) https://www.youtube.com/watch?v=J4Wdy0Wc_xQ\n",
    "* (Part 2) https://www.youtube.com/watch?v=nyxTdL_4Q-Q\n",
    "\n",
    "Random Forests are just an ensemble of decision trees that utilize a random \"bootstrap\" dataset (A same-sized, but randomly selected subset of the data (rows may repeat)), and a random subset of columns to classify on for each tree.\n",
    "\n",
    "The trees then get together and either vote or have their estimates averaged together for determining their results. The combination of bootstrapping the data, and aggregating the estimates of the individual models is called \"bagging\".\n",
    "\n",
    "**B**ootstrap **Agg**regation (ing)"
   ]
  },
  {
   "cell_type": "markdown",
   "metadata": {},
   "source": [
    "# Boosting\n",
    "\n",
    "There's another ensemble technique called \"boosting\", it's much more directed than bagging, by building models that compensate for the problems of the model made before it. It is usually a lot more effective. I think this gets covered later, but I thought I'd mention it now."
   ]
  }
 ],
 "metadata": {
  "kernelspec": {
   "display_name": "Python 3",
   "language": "python",
   "name": "python3"
  },
  "language_info": {
   "codemirror_mode": {
    "name": "ipython",
    "version": 3
   },
   "file_extension": ".py",
   "mimetype": "text/x-python",
   "name": "python",
   "nbconvert_exporter": "python",
   "pygments_lexer": "ipython3",
   "version": "3.6.3"
  }
 },
 "nbformat": 4,
 "nbformat_minor": 2
}
